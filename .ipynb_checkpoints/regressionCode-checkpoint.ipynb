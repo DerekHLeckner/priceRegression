{
 "cells": [
  {
   "cell_type": "markdown",
   "metadata": {},
   "source": [
    "# Step 1. The setup"
   ]
  },
  {
   "cell_type": "code",
   "execution_count": 1,
   "metadata": {},
   "outputs": [],
   "source": [
    "# import dependences\n",
    "import pandas as pd # so we can play with data frames\n",
    "import os # we have a lot of csvs to import, this will make it easier for us and automate the process\n",
    "import numpy as np #We'll need to run some simple stats"
   ]
  },
  {
   "cell_type": "code",
   "execution_count": 2,
   "metadata": {},
   "outputs": [
    {
     "data": {
      "text/plain": [
       "['audi.csv',\n",
       " 'bmw.csv',\n",
       " 'cclass.csv',\n",
       " 'focus.csv',\n",
       " 'ford.csv',\n",
       " 'hyundi.csv',\n",
       " 'merc.csv',\n",
       " 'skoda.csv',\n",
       " 'toyota.csv',\n",
       " 'unclean cclass.csv',\n",
       " 'unclean focus.csv',\n",
       " 'vauxhall.csv',\n",
       " 'vw.csv']"
      ]
     },
     "execution_count": 2,
     "metadata": {},
     "output_type": "execute_result"
    }
   ],
   "source": [
    "os.listdir(\"Resources\") # Seeing our csvs"
   ]
  },
  {
   "cell_type": "code",
   "execution_count": 3,
   "metadata": {},
   "outputs": [
    {
     "data": {
      "text/plain": [
       "13"
      ]
     },
     "execution_count": 3,
     "metadata": {},
     "output_type": "execute_result"
    }
   ],
   "source": [
    "len(os.listdir(\"Resources\")) # There's 13"
   ]
  },
  {
   "cell_type": "code",
   "execution_count": 4,
   "metadata": {},
   "outputs": [],
   "source": [
    "csv_list = os.listdir(\"Resources\") # Putting it into a variable will be easier to review"
   ]
  },
  {
   "cell_type": "code",
   "execution_count": 5,
   "metadata": {},
   "outputs": [
    {
     "name": "stdout",
     "output_type": "stream",
     "text": [
      "audi.csv\n",
      "bmw.csv\n",
      "cclass.csv\n",
      "focus.csv\n",
      "ford.csv\n",
      "hyundi.csv\n",
      "merc.csv\n",
      "skoda.csv\n",
      "toyota.csv\n",
      "unclean cclass.csv\n",
      "unclean focus.csv\n",
      "vauxhall.csv\n",
      "vw.csv\n"
     ]
    }
   ],
   "source": [
    "for i in csv_list:\n",
    "    print(i) # it worked!"
   ]
  },
  {
   "cell_type": "markdown",
   "metadata": {},
   "source": [
    "# Step 2. Prepare conversion"
   ]
  },
  {
   "cell_type": "code",
   "execution_count": 6,
   "metadata": {
    "scrolled": true
   },
   "outputs": [
    {
     "name": "stdout",
     "output_type": "stream",
     "text": [
      "9\n",
      "9\n",
      "7\n",
      "7\n",
      "9\n",
      "9\n",
      "9\n",
      "9\n",
      "9\n",
      "11\n",
      "11\n",
      "9\n",
      "9\n"
     ]
    }
   ],
   "source": [
    "#let's look at what's in these\n",
    "for csv in csv_list: # Now lets loop through and transfer everything to a dataframe\n",
    "    df = pd.read_csv(f\"Resources/{csv}\")\n",
    "    print(len(df.columns))"
   ]
  },
  {
   "cell_type": "code",
   "execution_count": 7,
   "metadata": {},
   "outputs": [],
   "source": [
    "df_holder = [] # We need the CSVs in dataframe form\n",
    "for csv in csv_list: # Now lets loop through and transfer everything to a datagrame (I know there's an easier way to do this, but this is broke down at a simplier level)\n",
    "    df = pd.read_csv(f\"Resources/{csv}\")\n",
    "    df['maker'] = csv.split('.')[0]\n",
    "    if 'fuel type' in df.columns: #get rid of that duplicate\n",
    "        df = df.rename(columns={\"fuel type\": 'fuelType'})\n",
    "        \n",
    "    if 'tax(£)' in df.columns:\n",
    "        df['tax(£)'] = df['tax(£)'] * 1.38\n",
    "        df = df.rename(columns={'tax(£)' : 'tax'}) # and this duplicate\n",
    "        \n",
    "    if 'engine size' in df.columns:\n",
    "        df = df.rename(columns={'engine size' : 'engineSize'}) # and this duplicate       \n",
    "    df_holder.append(df)\n",
    "df = pd.concat(df_holder)"
   ]
  },
  {
   "cell_type": "markdown",
   "metadata": {},
   "source": [
    "# Step 3: Preprocessing"
   ]
  },
  {
   "cell_type": "code",
   "execution_count": 12,
   "metadata": {
    "scrolled": true
   },
   "outputs": [
    {
     "name": "stderr",
     "output_type": "stream",
     "text": [
      "C:\\Users\\dhlec\\anaconda3\\lib\\site-packages\\pandas\\core\\indexing.py:670: SettingWithCopyWarning: \n",
      "A value is trying to be set on a copy of a slice from a DataFrame\n",
      "\n",
      "See the caveats in the documentation: https://pandas.pydata.org/pandas-docs/stable/user_guide/indexing.html#returning-a-view-versus-a-copy\n",
      "  self._setitem_with_indexer(indexer, value)\n"
     ]
    }
   ],
   "source": [
    "import math\n",
    "for row in range(len(df['model'])): # row it\n",
    "    a_string = df['engineSize'].iloc[row] # put into string\n",
    "    try:\n",
    "        if math.isnan(float(a_string)): # see if a NaN\n",
    "            pass\n",
    "    except:\n",
    "        numeric_filter = filter(str.isdigit,a_string) #if error, that means there's some non numerical charecter\n",
    "        numeric_string = \"\".join(numeric_filter)\n",
    "        df['engineSize'].iloc[row] = numeric_string   # it is removed      "
   ]
  },
  {
   "cell_type": "code",
   "execution_count": 13,
   "metadata": {},
   "outputs": [],
   "source": [
    "import math\n",
    "for row in range(len(df['model'])):\n",
    "    a_string = df['mileage'].iloc[row]\n",
    "    try:\n",
    "        if math.isnan(float(a_string)):\n",
    "            pass\n",
    "    except:\n",
    "        numeric_filter = filter(str.isdigit,a_string)\n",
    "        numeric_string = \"\".join(numeric_filter)\n",
    "        df['mileage'].iloc[row] = numeric_string"
   ]
  },
  {
   "cell_type": "code",
   "execution_count": 14,
   "metadata": {},
   "outputs": [
    {
     "name": "stdout",
     "output_type": "stream",
     "text": [
      "model 155\n",
      "year 247\n",
      "price 155\n",
      "transmission 155\n",
      "mileage 1073\n",
      "fuelType 6093\n",
      "tax 18963\n",
      "mpg 18963\n",
      "engineSize 265\n",
      "maker 0\n",
      "mileage2 108751\n",
      "fuel type2 109613\n",
      "engine size2 109613\n",
      "reference 108695\n"
     ]
    }
   ],
   "source": [
    "for column in df.columns:\n",
    "    print(column, df[column].isnull().sum())"
   ]
  },
  {
   "cell_type": "code",
   "execution_count": 15,
   "metadata": {},
   "outputs": [],
   "source": [
    "holding_list = [] # holding list\n",
    "for i in df['engineSize']: # for it\n",
    "    try:\n",
    "        int(i) # see if it's an int\n",
    "        holding_list.append(float(i)) #\n",
    "    except:\n",
    "        if math.isnan(float(i)): #if not, check to see nan\n",
    "            pass\n",
    "        else: #number we can play with\n",
    "            holding_list.append(float(i))\n",
    "np.mean(holding_list)\n",
    "df['engineSize'] = df['engineSize'].fillna(np.mean(holding_list))"
   ]
  },
  {
   "cell_type": "code",
   "execution_count": 16,
   "metadata": {},
   "outputs": [
    {
     "name": "stdout",
     "output_type": "stream",
     "text": [
      "model 155\n",
      "year 247\n",
      "price 155\n",
      "transmission 155\n",
      "mileage 1073\n",
      "fuelType 6093\n",
      "tax 18963\n",
      "mpg 18963\n",
      "engineSize 0\n",
      "maker 0\n",
      "mileage2 108751\n",
      "fuel type2 109613\n",
      "engine size2 109613\n",
      "reference 108695\n"
     ]
    }
   ],
   "source": [
    "for column in df.columns:\n",
    "    print(column, df[column].isnull().sum())"
   ]
  },
  {
   "cell_type": "code",
   "execution_count": 17,
   "metadata": {},
   "outputs": [],
   "source": [
    "df = df.replace(r'^\\s*$', np.nan, regex=True) # replace empty strings in df"
   ]
  },
  {
   "cell_type": "code",
   "execution_count": 18,
   "metadata": {},
   "outputs": [],
   "source": [
    "holding_list = []\n",
    "for i in df['mileage']:\n",
    "    try:\n",
    "        int(i)\n",
    "        holding_list.append(float(i))\n",
    "    except:\n",
    "        if math.isnan(float(i)):\n",
    "            pass\n",
    "        else:\n",
    "            holding_list.append(float(i))\n",
    "np.mean(holding_list)\n",
    "df['mileage'] = df['mileage'].fillna(np.mean(holding_list))"
   ]
  },
  {
   "cell_type": "code",
   "execution_count": 19,
   "metadata": {},
   "outputs": [
    {
     "name": "stdout",
     "output_type": "stream",
     "text": [
      "model 155\n",
      "year 247\n",
      "price 155\n",
      "transmission 155\n",
      "mileage 0\n",
      "fuelType 6093\n",
      "tax 18963\n",
      "mpg 18963\n",
      "engineSize 0\n",
      "maker 0\n",
      "mileage2 108751\n",
      "fuel type2 109613\n",
      "engine size2 109613\n",
      "reference 108695\n"
     ]
    }
   ],
   "source": [
    "for column in df.columns:\n",
    "    print(column, df[column].isnull().sum())"
   ]
  },
  {
   "cell_type": "code",
   "execution_count": 21,
   "metadata": {},
   "outputs": [
    {
     "data": {
      "text/html": [
       "<div>\n",
       "<style scoped>\n",
       "    .dataframe tbody tr th:only-of-type {\n",
       "        vertical-align: middle;\n",
       "    }\n",
       "\n",
       "    .dataframe tbody tr th {\n",
       "        vertical-align: top;\n",
       "    }\n",
       "\n",
       "    .dataframe thead th {\n",
       "        text-align: right;\n",
       "    }\n",
       "</style>\n",
       "<table border=\"1\" class=\"dataframe\">\n",
       "  <thead>\n",
       "    <tr style=\"text-align: right;\">\n",
       "      <th></th>\n",
       "      <th>model</th>\n",
       "      <th>year</th>\n",
       "      <th>price</th>\n",
       "      <th>transmission</th>\n",
       "      <th>mileage</th>\n",
       "      <th>fuelType</th>\n",
       "      <th>tax</th>\n",
       "      <th>mpg</th>\n",
       "      <th>engineSize</th>\n",
       "      <th>maker</th>\n",
       "      <th>mileage2</th>\n",
       "      <th>fuel type2</th>\n",
       "      <th>engine size2</th>\n",
       "      <th>reference</th>\n",
       "    </tr>\n",
       "  </thead>\n",
       "  <tbody>\n",
       "    <tr>\n",
       "      <th>20</th>\n",
       "      <td>NaN</td>\n",
       "      <td>NaN</td>\n",
       "      <td>NaN</td>\n",
       "      <td>NaN</td>\n",
       "      <td>23036.7</td>\n",
       "      <td>NaN</td>\n",
       "      <td>NaN</td>\n",
       "      <td>NaN</td>\n",
       "      <td>10.7581</td>\n",
       "      <td>unclean cclass</td>\n",
       "      <td>NaN</td>\n",
       "      <td>NaN</td>\n",
       "      <td>NaN</td>\n",
       "      <td>NaN</td>\n",
       "    </tr>\n",
       "    <tr>\n",
       "      <th>21</th>\n",
       "      <td>NaN</td>\n",
       "      <td>NaN</td>\n",
       "      <td>NaN</td>\n",
       "      <td>NaN</td>\n",
       "      <td>23036.7</td>\n",
       "      <td>NaN</td>\n",
       "      <td>NaN</td>\n",
       "      <td>NaN</td>\n",
       "      <td>10.7581</td>\n",
       "      <td>unclean cclass</td>\n",
       "      <td>NaN</td>\n",
       "      <td>NaN</td>\n",
       "      <td>NaN</td>\n",
       "      <td>NaN</td>\n",
       "    </tr>\n",
       "    <tr>\n",
       "      <th>22</th>\n",
       "      <td>NaN</td>\n",
       "      <td>NaN</td>\n",
       "      <td>NaN</td>\n",
       "      <td>NaN</td>\n",
       "      <td>23036.7</td>\n",
       "      <td>NaN</td>\n",
       "      <td>NaN</td>\n",
       "      <td>NaN</td>\n",
       "      <td>10.7581</td>\n",
       "      <td>unclean cclass</td>\n",
       "      <td>NaN</td>\n",
       "      <td>NaN</td>\n",
       "      <td>NaN</td>\n",
       "      <td>NaN</td>\n",
       "    </tr>\n",
       "    <tr>\n",
       "      <th>23</th>\n",
       "      <td>NaN</td>\n",
       "      <td>NaN</td>\n",
       "      <td>NaN</td>\n",
       "      <td>NaN</td>\n",
       "      <td>23036.7</td>\n",
       "      <td>NaN</td>\n",
       "      <td>NaN</td>\n",
       "      <td>NaN</td>\n",
       "      <td>10.7581</td>\n",
       "      <td>unclean cclass</td>\n",
       "      <td>NaN</td>\n",
       "      <td>NaN</td>\n",
       "      <td>NaN</td>\n",
       "      <td>NaN</td>\n",
       "    </tr>\n",
       "    <tr>\n",
       "      <th>24</th>\n",
       "      <td>NaN</td>\n",
       "      <td>NaN</td>\n",
       "      <td>NaN</td>\n",
       "      <td>NaN</td>\n",
       "      <td>23036.7</td>\n",
       "      <td>NaN</td>\n",
       "      <td>NaN</td>\n",
       "      <td>NaN</td>\n",
       "      <td>10.7581</td>\n",
       "      <td>unclean cclass</td>\n",
       "      <td>NaN</td>\n",
       "      <td>NaN</td>\n",
       "      <td>NaN</td>\n",
       "      <td>NaN</td>\n",
       "    </tr>\n",
       "    <tr>\n",
       "      <th>...</th>\n",
       "      <td>...</td>\n",
       "      <td>...</td>\n",
       "      <td>...</td>\n",
       "      <td>...</td>\n",
       "      <td>...</td>\n",
       "      <td>...</td>\n",
       "      <td>...</td>\n",
       "      <td>...</td>\n",
       "      <td>...</td>\n",
       "      <td>...</td>\n",
       "      <td>...</td>\n",
       "      <td>...</td>\n",
       "      <td>...</td>\n",
       "      <td>...</td>\n",
       "    </tr>\n",
       "    <tr>\n",
       "      <th>5087</th>\n",
       "      <td>NaN</td>\n",
       "      <td>NaN</td>\n",
       "      <td>NaN</td>\n",
       "      <td>NaN</td>\n",
       "      <td>23036.7</td>\n",
       "      <td>NaN</td>\n",
       "      <td>NaN</td>\n",
       "      <td>NaN</td>\n",
       "      <td>10.7581</td>\n",
       "      <td>unclean focus</td>\n",
       "      <td>NaN</td>\n",
       "      <td>NaN</td>\n",
       "      <td>NaN</td>\n",
       "      <td>NaN</td>\n",
       "    </tr>\n",
       "    <tr>\n",
       "      <th>5088</th>\n",
       "      <td>NaN</td>\n",
       "      <td>NaN</td>\n",
       "      <td>NaN</td>\n",
       "      <td>NaN</td>\n",
       "      <td>23036.7</td>\n",
       "      <td>NaN</td>\n",
       "      <td>NaN</td>\n",
       "      <td>NaN</td>\n",
       "      <td>10.7581</td>\n",
       "      <td>unclean focus</td>\n",
       "      <td>NaN</td>\n",
       "      <td>NaN</td>\n",
       "      <td>NaN</td>\n",
       "      <td>NaN</td>\n",
       "    </tr>\n",
       "    <tr>\n",
       "      <th>5089</th>\n",
       "      <td>NaN</td>\n",
       "      <td>NaN</td>\n",
       "      <td>NaN</td>\n",
       "      <td>NaN</td>\n",
       "      <td>23036.7</td>\n",
       "      <td>NaN</td>\n",
       "      <td>NaN</td>\n",
       "      <td>NaN</td>\n",
       "      <td>10.7581</td>\n",
       "      <td>unclean focus</td>\n",
       "      <td>NaN</td>\n",
       "      <td>NaN</td>\n",
       "      <td>NaN</td>\n",
       "      <td>NaN</td>\n",
       "    </tr>\n",
       "    <tr>\n",
       "      <th>5090</th>\n",
       "      <td>NaN</td>\n",
       "      <td>NaN</td>\n",
       "      <td>NaN</td>\n",
       "      <td>NaN</td>\n",
       "      <td>23036.7</td>\n",
       "      <td>NaN</td>\n",
       "      <td>NaN</td>\n",
       "      <td>NaN</td>\n",
       "      <td>10.7581</td>\n",
       "      <td>unclean focus</td>\n",
       "      <td>NaN</td>\n",
       "      <td>NaN</td>\n",
       "      <td>NaN</td>\n",
       "      <td>NaN</td>\n",
       "    </tr>\n",
       "    <tr>\n",
       "      <th>5091</th>\n",
       "      <td>NaN</td>\n",
       "      <td>NaN</td>\n",
       "      <td>NaN</td>\n",
       "      <td>NaN</td>\n",
       "      <td>23036.7</td>\n",
       "      <td>NaN</td>\n",
       "      <td>NaN</td>\n",
       "      <td>NaN</td>\n",
       "      <td>10.7581</td>\n",
       "      <td>unclean focus</td>\n",
       "      <td>NaN</td>\n",
       "      <td>NaN</td>\n",
       "      <td>NaN</td>\n",
       "      <td>NaN</td>\n",
       "    </tr>\n",
       "  </tbody>\n",
       "</table>\n",
       "<p>155 rows × 14 columns</p>\n",
       "</div>"
      ],
      "text/plain": [
       "     model  year price transmission  mileage fuelType  tax  mpg engineSize  \\\n",
       "20     NaN   NaN   NaN          NaN  23036.7      NaN  NaN  NaN    10.7581   \n",
       "21     NaN   NaN   NaN          NaN  23036.7      NaN  NaN  NaN    10.7581   \n",
       "22     NaN   NaN   NaN          NaN  23036.7      NaN  NaN  NaN    10.7581   \n",
       "23     NaN   NaN   NaN          NaN  23036.7      NaN  NaN  NaN    10.7581   \n",
       "24     NaN   NaN   NaN          NaN  23036.7      NaN  NaN  NaN    10.7581   \n",
       "...    ...   ...   ...          ...      ...      ...  ...  ...        ...   \n",
       "5087   NaN   NaN   NaN          NaN  23036.7      NaN  NaN  NaN    10.7581   \n",
       "5088   NaN   NaN   NaN          NaN  23036.7      NaN  NaN  NaN    10.7581   \n",
       "5089   NaN   NaN   NaN          NaN  23036.7      NaN  NaN  NaN    10.7581   \n",
       "5090   NaN   NaN   NaN          NaN  23036.7      NaN  NaN  NaN    10.7581   \n",
       "5091   NaN   NaN   NaN          NaN  23036.7      NaN  NaN  NaN    10.7581   \n",
       "\n",
       "               maker mileage2 fuel type2 engine size2 reference  \n",
       "20    unclean cclass      NaN        NaN          NaN       NaN  \n",
       "21    unclean cclass      NaN        NaN          NaN       NaN  \n",
       "22    unclean cclass      NaN        NaN          NaN       NaN  \n",
       "23    unclean cclass      NaN        NaN          NaN       NaN  \n",
       "24    unclean cclass      NaN        NaN          NaN       NaN  \n",
       "...              ...      ...        ...          ...       ...  \n",
       "5087   unclean focus      NaN        NaN          NaN       NaN  \n",
       "5088   unclean focus      NaN        NaN          NaN       NaN  \n",
       "5089   unclean focus      NaN        NaN          NaN       NaN  \n",
       "5090   unclean focus      NaN        NaN          NaN       NaN  \n",
       "5091   unclean focus      NaN        NaN          NaN       NaN  \n",
       "\n",
       "[155 rows x 14 columns]"
      ]
     },
     "execution_count": 21,
     "metadata": {},
     "output_type": "execute_result"
    }
   ],
   "source": [
    "df[df['model'].isnull()]"
   ]
  },
  {
   "cell_type": "code",
   "execution_count": 29,
   "metadata": {
    "scrolled": true
   },
   "outputs": [
    {
     "name": "stdout",
     "output_type": "stream",
     "text": [
      "model 0\n",
      "year 89\n",
      "price 0\n",
      "transmission 0\n",
      "mileage 819\n",
      "fuel type 3360\n",
      "engine size 45\n",
      "mileage2 39\n",
      "fuel type2 819\n",
      "engine size2 819\n",
      "reference 0\n"
     ]
    }
   ],
   "source": [
    "# solo_df = pd.read_csv(\"Resources/unclean focus.csv\")\n",
    "for column in solo_df.columns:\n",
    "    print(column, solo_df[column].isnull().sum())"
   ]
  },
  {
   "cell_type": "code",
   "execution_count": 28,
   "metadata": {},
   "outputs": [],
   "source": [
    "solo_df = solo_df.dropna(axis = 0, how = 'all')"
   ]
  }
 ],
 "metadata": {
  "kernelspec": {
   "display_name": "Python 3",
   "language": "python",
   "name": "python3"
  },
  "language_info": {
   "codemirror_mode": {
    "name": "ipython",
    "version": 3
   },
   "file_extension": ".py",
   "mimetype": "text/x-python",
   "name": "python",
   "nbconvert_exporter": "python",
   "pygments_lexer": "ipython3",
   "version": "3.7.6"
  }
 },
 "nbformat": 4,
 "nbformat_minor": 4
}
