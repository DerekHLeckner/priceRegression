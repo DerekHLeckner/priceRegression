{
 "cells": [
  {
   "cell_type": "markdown",
   "metadata": {},
   "source": [
    "# Couple questions\n",
    "\n",
    "These were 100,000 listings from many different car markers, I wonder if we can find any patterns about these listings."
   ]
  },
  {
   "cell_type": "code",
   "execution_count": 1,
   "metadata": {},
   "outputs": [],
   "source": [
    "import pandas as pd\n",
    "import category_encoders as ce\n",
    "import pandas as pd\n",
    "from sklearn.model_selection import train_test_split\n",
    "from sklearn.preprocessing import MinMaxScaler\n",
    "from sklearn.linear_model import LinearRegression\n",
    "from sklearn.preprocessing import StandardScaler\n",
    "from sklearn.metrics import mean_squared_error\n",
    "import matplotlib.pyplot as plt\n",
    "import seaborn as sns\n",
    "import os\n",
    "import statsmodels.api as sm\n",
    "import numpy as np"
   ]
  },
  {
   "cell_type": "code",
   "execution_count": 2,
   "metadata": {},
   "outputs": [],
   "source": [
    "df = pd.read_csv(\"Resources/vw.csv\")"
   ]
  },
  {
   "cell_type": "code",
   "execution_count": 3,
   "metadata": {},
   "outputs": [
    {
     "data": {
      "text/plain": [
       "model           0\n",
       "year            0\n",
       "price           0\n",
       "transmission    0\n",
       "mileage         0\n",
       "fuelType        0\n",
       "tax             0\n",
       "mpg             0\n",
       "engineSize      0\n",
       "dtype: int64"
      ]
     },
     "execution_count": 3,
     "metadata": {},
     "output_type": "execute_result"
    }
   ],
   "source": [
    "df.isnull().sum()"
   ]
  },
  {
   "cell_type": "code",
   "execution_count": 4,
   "metadata": {},
   "outputs": [
    {
     "data": {
      "text/html": [
       "<div>\n",
       "<style scoped>\n",
       "    .dataframe tbody tr th:only-of-type {\n",
       "        vertical-align: middle;\n",
       "    }\n",
       "\n",
       "    .dataframe tbody tr th {\n",
       "        vertical-align: top;\n",
       "    }\n",
       "\n",
       "    .dataframe thead th {\n",
       "        text-align: right;\n",
       "    }\n",
       "</style>\n",
       "<table border=\"1\" class=\"dataframe\">\n",
       "  <thead>\n",
       "    <tr style=\"text-align: right;\">\n",
       "      <th></th>\n",
       "      <th>model</th>\n",
       "      <th>year</th>\n",
       "      <th>price</th>\n",
       "      <th>transmission</th>\n",
       "      <th>mileage</th>\n",
       "      <th>fuelType</th>\n",
       "      <th>tax</th>\n",
       "      <th>mpg</th>\n",
       "      <th>engineSize</th>\n",
       "    </tr>\n",
       "  </thead>\n",
       "  <tbody>\n",
       "    <tr>\n",
       "      <th>0</th>\n",
       "      <td>T-Roc</td>\n",
       "      <td>2019</td>\n",
       "      <td>25000</td>\n",
       "      <td>Automatic</td>\n",
       "      <td>13904</td>\n",
       "      <td>Diesel</td>\n",
       "      <td>145</td>\n",
       "      <td>49.6</td>\n",
       "      <td>2.0</td>\n",
       "    </tr>\n",
       "    <tr>\n",
       "      <th>1</th>\n",
       "      <td>T-Roc</td>\n",
       "      <td>2019</td>\n",
       "      <td>26883</td>\n",
       "      <td>Automatic</td>\n",
       "      <td>4562</td>\n",
       "      <td>Diesel</td>\n",
       "      <td>145</td>\n",
       "      <td>49.6</td>\n",
       "      <td>2.0</td>\n",
       "    </tr>\n",
       "    <tr>\n",
       "      <th>2</th>\n",
       "      <td>T-Roc</td>\n",
       "      <td>2019</td>\n",
       "      <td>20000</td>\n",
       "      <td>Manual</td>\n",
       "      <td>7414</td>\n",
       "      <td>Diesel</td>\n",
       "      <td>145</td>\n",
       "      <td>50.4</td>\n",
       "      <td>2.0</td>\n",
       "    </tr>\n",
       "    <tr>\n",
       "      <th>3</th>\n",
       "      <td>T-Roc</td>\n",
       "      <td>2019</td>\n",
       "      <td>33492</td>\n",
       "      <td>Automatic</td>\n",
       "      <td>4825</td>\n",
       "      <td>Petrol</td>\n",
       "      <td>145</td>\n",
       "      <td>32.5</td>\n",
       "      <td>2.0</td>\n",
       "    </tr>\n",
       "    <tr>\n",
       "      <th>4</th>\n",
       "      <td>T-Roc</td>\n",
       "      <td>2019</td>\n",
       "      <td>22900</td>\n",
       "      <td>Semi-Auto</td>\n",
       "      <td>6500</td>\n",
       "      <td>Petrol</td>\n",
       "      <td>150</td>\n",
       "      <td>39.8</td>\n",
       "      <td>1.5</td>\n",
       "    </tr>\n",
       "    <tr>\n",
       "      <th>5</th>\n",
       "      <td>T-Roc</td>\n",
       "      <td>2020</td>\n",
       "      <td>31895</td>\n",
       "      <td>Manual</td>\n",
       "      <td>10</td>\n",
       "      <td>Petrol</td>\n",
       "      <td>145</td>\n",
       "      <td>42.2</td>\n",
       "      <td>1.5</td>\n",
       "    </tr>\n",
       "    <tr>\n",
       "      <th>6</th>\n",
       "      <td>T-Roc</td>\n",
       "      <td>2020</td>\n",
       "      <td>27895</td>\n",
       "      <td>Manual</td>\n",
       "      <td>10</td>\n",
       "      <td>Petrol</td>\n",
       "      <td>145</td>\n",
       "      <td>42.2</td>\n",
       "      <td>1.5</td>\n",
       "    </tr>\n",
       "    <tr>\n",
       "      <th>7</th>\n",
       "      <td>T-Roc</td>\n",
       "      <td>2020</td>\n",
       "      <td>39495</td>\n",
       "      <td>Semi-Auto</td>\n",
       "      <td>10</td>\n",
       "      <td>Petrol</td>\n",
       "      <td>145</td>\n",
       "      <td>32.5</td>\n",
       "      <td>2.0</td>\n",
       "    </tr>\n",
       "    <tr>\n",
       "      <th>8</th>\n",
       "      <td>T-Roc</td>\n",
       "      <td>2019</td>\n",
       "      <td>21995</td>\n",
       "      <td>Manual</td>\n",
       "      <td>10</td>\n",
       "      <td>Petrol</td>\n",
       "      <td>145</td>\n",
       "      <td>44.1</td>\n",
       "      <td>1.0</td>\n",
       "    </tr>\n",
       "    <tr>\n",
       "      <th>9</th>\n",
       "      <td>T-Roc</td>\n",
       "      <td>2019</td>\n",
       "      <td>23285</td>\n",
       "      <td>Manual</td>\n",
       "      <td>10</td>\n",
       "      <td>Petrol</td>\n",
       "      <td>145</td>\n",
       "      <td>42.2</td>\n",
       "      <td>1.5</td>\n",
       "    </tr>\n",
       "  </tbody>\n",
       "</table>\n",
       "</div>"
      ],
      "text/plain": [
       "    model  year  price transmission  mileage fuelType  tax   mpg  engineSize\n",
       "0   T-Roc  2019  25000    Automatic    13904   Diesel  145  49.6         2.0\n",
       "1   T-Roc  2019  26883    Automatic     4562   Diesel  145  49.6         2.0\n",
       "2   T-Roc  2019  20000       Manual     7414   Diesel  145  50.4         2.0\n",
       "3   T-Roc  2019  33492    Automatic     4825   Petrol  145  32.5         2.0\n",
       "4   T-Roc  2019  22900    Semi-Auto     6500   Petrol  150  39.8         1.5\n",
       "5   T-Roc  2020  31895       Manual       10   Petrol  145  42.2         1.5\n",
       "6   T-Roc  2020  27895       Manual       10   Petrol  145  42.2         1.5\n",
       "7   T-Roc  2020  39495    Semi-Auto       10   Petrol  145  32.5         2.0\n",
       "8   T-Roc  2019  21995       Manual       10   Petrol  145  44.1         1.0\n",
       "9   T-Roc  2019  23285       Manual       10   Petrol  145  42.2         1.5"
      ]
     },
     "execution_count": 4,
     "metadata": {},
     "output_type": "execute_result"
    }
   ],
   "source": [
    "df.head(10)"
   ]
  },
  {
   "cell_type": "code",
   "execution_count": 5,
   "metadata": {},
   "outputs": [
    {
     "data": {
      "text/plain": [
       "array([' T-Roc', ' Golf', ' Passat', ' T-Cross', ' Polo', ' Tiguan',\n",
       "       ' Sharan', ' Up', ' Scirocco', ' Beetle', ' Caddy Maxi Life',\n",
       "       ' Caravelle', ' Touareg', ' Arteon', ' Touran', ' Golf SV',\n",
       "       ' Amarok', ' Tiguan Allspace', ' Shuttle', ' Jetta', ' CC',\n",
       "       ' California', ' Caddy Life', ' Caddy', ' Caddy Maxi', ' Eos',\n",
       "       ' Fox'], dtype=object)"
      ]
     },
     "execution_count": 5,
     "metadata": {},
     "output_type": "execute_result"
    }
   ],
   "source": [
    "df['model'].unique()"
   ]
  },
  {
   "cell_type": "code",
   "execution_count": 6,
   "metadata": {},
   "outputs": [],
   "source": [
    "df['car age'] = 2020 - df['year']"
   ]
  },
  {
   "cell_type": "code",
   "execution_count": 7,
   "metadata": {},
   "outputs": [],
   "source": [
    "df.drop(['year'], axis=1, inplace = True)"
   ]
  },
  {
   "cell_type": "markdown",
   "metadata": {},
   "source": [
    "# Charts"
   ]
  },
  {
   "cell_type": "code",
   "execution_count": 8,
   "metadata": {
    "scrolled": true
   },
   "outputs": [
    {
     "data": {
      "image/png": "[encoded data removed]",
      "text/plain": [
       "<Figure size 432x288 with 1 Axes>"
      ]
     },
     "metadata": {
      "needs_background": "light"
     },
     "output_type": "display_data"
    }
   ],
   "source": [
    "ax = sns.scatterplot(data=df, x=\"mileage\", y=\"price\")"
   ]
  },
  {
   "cell_type": "code",
   "execution_count": 9,
   "metadata": {},
   "outputs": [
    {
     "data": {
      "image/png": "[encoded data removed]",
      "text/plain": [
       "<Figure size 432x288 with 1 Axes>"
      ]
     },
     "metadata": {
      "needs_background": "light"
     },
     "output_type": "display_data"
    }
   ],
   "source": [
    "ax = sns.scatterplot(data=df, x=\"mpg\", y=\"price\")"
   ]
  },
  {
   "cell_type": "code",
   "execution_count": 10,
   "metadata": {},
   "outputs": [
    {
     "data": {
      "image/png": "[encoded data removed]",
      "text/plain": [
       "<Figure size 432x288 with 1 Axes>"
      ]
     },
     "metadata": {
      "needs_background": "light"
     },
     "output_type": "display_data"
    }
   ],
   "source": [
    "ax = sns.scatterplot(data=df, x=\"car age\", y=\"price\")"
   ]
  },
  {
   "cell_type": "code",
   "execution_count": 11,
   "metadata": {},
   "outputs": [
    {
     "data": {
      "text/html": [
       "<div>\n",
       "<style scoped>\n",
       "    .dataframe tbody tr th:only-of-type {\n",
       "        vertical-align: middle;\n",
       "    }\n",
       "\n",
       "    .dataframe tbody tr th {\n",
       "        vertical-align: top;\n",
       "    }\n",
       "\n",
       "    .dataframe thead th {\n",
       "        text-align: right;\n",
       "    }\n",
       "</style>\n",
       "<table border=\"1\" class=\"dataframe\">\n",
       "  <thead>\n",
       "    <tr style=\"text-align: right;\">\n",
       "      <th></th>\n",
       "      <th>model</th>\n",
       "      <th>price</th>\n",
       "      <th>transmission</th>\n",
       "      <th>mileage</th>\n",
       "      <th>fuelType</th>\n",
       "      <th>tax</th>\n",
       "      <th>mpg</th>\n",
       "      <th>engineSize</th>\n",
       "      <th>car age</th>\n",
       "    </tr>\n",
       "  </thead>\n",
       "  <tbody>\n",
       "    <tr>\n",
       "      <th>0</th>\n",
       "      <td>T-Roc</td>\n",
       "      <td>25000</td>\n",
       "      <td>Automatic</td>\n",
       "      <td>13904</td>\n",
       "      <td>Diesel</td>\n",
       "      <td>145</td>\n",
       "      <td>49.6</td>\n",
       "      <td>2.0</td>\n",
       "      <td>1</td>\n",
       "    </tr>\n",
       "    <tr>\n",
       "      <th>1</th>\n",
       "      <td>T-Roc</td>\n",
       "      <td>26883</td>\n",
       "      <td>Automatic</td>\n",
       "      <td>4562</td>\n",
       "      <td>Diesel</td>\n",
       "      <td>145</td>\n",
       "      <td>49.6</td>\n",
       "      <td>2.0</td>\n",
       "      <td>1</td>\n",
       "    </tr>\n",
       "    <tr>\n",
       "      <th>2</th>\n",
       "      <td>T-Roc</td>\n",
       "      <td>20000</td>\n",
       "      <td>Manual</td>\n",
       "      <td>7414</td>\n",
       "      <td>Diesel</td>\n",
       "      <td>145</td>\n",
       "      <td>50.4</td>\n",
       "      <td>2.0</td>\n",
       "      <td>1</td>\n",
       "    </tr>\n",
       "    <tr>\n",
       "      <th>3</th>\n",
       "      <td>T-Roc</td>\n",
       "      <td>33492</td>\n",
       "      <td>Automatic</td>\n",
       "      <td>4825</td>\n",
       "      <td>Petrol</td>\n",
       "      <td>145</td>\n",
       "      <td>32.5</td>\n",
       "      <td>2.0</td>\n",
       "      <td>1</td>\n",
       "    </tr>\n",
       "    <tr>\n",
       "      <th>4</th>\n",
       "      <td>T-Roc</td>\n",
       "      <td>22900</td>\n",
       "      <td>Semi-Auto</td>\n",
       "      <td>6500</td>\n",
       "      <td>Petrol</td>\n",
       "      <td>150</td>\n",
       "      <td>39.8</td>\n",
       "      <td>1.5</td>\n",
       "      <td>1</td>\n",
       "    </tr>\n",
       "    <tr>\n",
       "      <th>...</th>\n",
       "      <td>...</td>\n",
       "      <td>...</td>\n",
       "      <td>...</td>\n",
       "      <td>...</td>\n",
       "      <td>...</td>\n",
       "      <td>...</td>\n",
       "      <td>...</td>\n",
       "      <td>...</td>\n",
       "      <td>...</td>\n",
       "    </tr>\n",
       "    <tr>\n",
       "      <th>15152</th>\n",
       "      <td>Eos</td>\n",
       "      <td>5990</td>\n",
       "      <td>Manual</td>\n",
       "      <td>74000</td>\n",
       "      <td>Diesel</td>\n",
       "      <td>125</td>\n",
       "      <td>58.9</td>\n",
       "      <td>2.0</td>\n",
       "      <td>8</td>\n",
       "    </tr>\n",
       "    <tr>\n",
       "      <th>15153</th>\n",
       "      <td>Fox</td>\n",
       "      <td>1799</td>\n",
       "      <td>Manual</td>\n",
       "      <td>88102</td>\n",
       "      <td>Petrol</td>\n",
       "      <td>145</td>\n",
       "      <td>46.3</td>\n",
       "      <td>1.2</td>\n",
       "      <td>12</td>\n",
       "    </tr>\n",
       "    <tr>\n",
       "      <th>15154</th>\n",
       "      <td>Fox</td>\n",
       "      <td>1590</td>\n",
       "      <td>Manual</td>\n",
       "      <td>70000</td>\n",
       "      <td>Petrol</td>\n",
       "      <td>200</td>\n",
       "      <td>42.0</td>\n",
       "      <td>1.4</td>\n",
       "      <td>11</td>\n",
       "    </tr>\n",
       "    <tr>\n",
       "      <th>15155</th>\n",
       "      <td>Fox</td>\n",
       "      <td>1250</td>\n",
       "      <td>Manual</td>\n",
       "      <td>82704</td>\n",
       "      <td>Petrol</td>\n",
       "      <td>150</td>\n",
       "      <td>46.3</td>\n",
       "      <td>1.2</td>\n",
       "      <td>14</td>\n",
       "    </tr>\n",
       "    <tr>\n",
       "      <th>15156</th>\n",
       "      <td>Fox</td>\n",
       "      <td>2295</td>\n",
       "      <td>Manual</td>\n",
       "      <td>74000</td>\n",
       "      <td>Petrol</td>\n",
       "      <td>145</td>\n",
       "      <td>46.3</td>\n",
       "      <td>1.2</td>\n",
       "      <td>13</td>\n",
       "    </tr>\n",
       "  </tbody>\n",
       "</table>\n",
       "<p>15157 rows × 9 columns</p>\n",
       "</div>"
      ],
      "text/plain": [
       "        model  price transmission  mileage fuelType  tax   mpg  engineSize  \\\n",
       "0       T-Roc  25000    Automatic    13904   Diesel  145  49.6         2.0   \n",
       "1       T-Roc  26883    Automatic     4562   Diesel  145  49.6         2.0   \n",
       "2       T-Roc  20000       Manual     7414   Diesel  145  50.4         2.0   \n",
       "3       T-Roc  33492    Automatic     4825   Petrol  145  32.5         2.0   \n",
       "4       T-Roc  22900    Semi-Auto     6500   Petrol  150  39.8         1.5   \n",
       "...       ...    ...          ...      ...      ...  ...   ...         ...   \n",
       "15152     Eos   5990       Manual    74000   Diesel  125  58.9         2.0   \n",
       "15153     Fox   1799       Manual    88102   Petrol  145  46.3         1.2   \n",
       "15154     Fox   1590       Manual    70000   Petrol  200  42.0         1.4   \n",
       "15155     Fox   1250       Manual    82704   Petrol  150  46.3         1.2   \n",
       "15156     Fox   2295       Manual    74000   Petrol  145  46.3         1.2   \n",
       "\n",
       "       car age  \n",
       "0            1  \n",
       "1            1  \n",
       "2            1  \n",
       "3            1  \n",
       "4            1  \n",
       "...        ...  \n",
       "15152        8  \n",
       "15153       12  \n",
       "15154       11  \n",
       "15155       14  \n",
       "15156       13  \n",
       "\n",
       "[15157 rows x 9 columns]"
      ]
     },
     "execution_count": 11,
     "metadata": {},
     "output_type": "execute_result"
    }
   ],
   "source": [
    "df"
   ]
  },
  {
   "cell_type": "code",
   "execution_count": 12,
   "metadata": {},
   "outputs": [
    {
     "data": {
      "text/html": [
       "<div>\n",
       "<style scoped>\n",
       "    .dataframe tbody tr th:only-of-type {\n",
       "        vertical-align: middle;\n",
       "    }\n",
       "\n",
       "    .dataframe tbody tr th {\n",
       "        vertical-align: top;\n",
       "    }\n",
       "\n",
       "    .dataframe thead th {\n",
       "        text-align: right;\n",
       "    }\n",
       "</style>\n",
       "<table border=\"1\" class=\"dataframe\">\n",
       "  <thead>\n",
       "    <tr style=\"text-align: right;\">\n",
       "      <th></th>\n",
       "      <th>price</th>\n",
       "      <th>mileage</th>\n",
       "      <th>tax</th>\n",
       "      <th>mpg</th>\n",
       "      <th>engineSize</th>\n",
       "      <th>car age</th>\n",
       "    </tr>\n",
       "    <tr>\n",
       "      <th>transmission</th>\n",
       "      <th></th>\n",
       "      <th></th>\n",
       "      <th></th>\n",
       "      <th></th>\n",
       "      <th></th>\n",
       "      <th></th>\n",
       "    </tr>\n",
       "  </thead>\n",
       "  <tbody>\n",
       "    <tr>\n",
       "      <th>Automatic</th>\n",
       "      <td>22589.528061</td>\n",
       "      <td>18896.150000</td>\n",
       "      <td>142.987245</td>\n",
       "      <td>48.536327</td>\n",
       "      <td>1.905306</td>\n",
       "      <td>2.359694</td>\n",
       "    </tr>\n",
       "    <tr>\n",
       "      <th>Manual</th>\n",
       "      <td>13709.165552</td>\n",
       "      <td>24757.289476</td>\n",
       "      <td>99.508336</td>\n",
       "      <td>56.559541</td>\n",
       "      <td>1.449867</td>\n",
       "      <td>3.061485</td>\n",
       "    </tr>\n",
       "    <tr>\n",
       "      <th>Semi-Auto</th>\n",
       "      <td>21654.315873</td>\n",
       "      <td>17112.302381</td>\n",
       "      <td>130.037037</td>\n",
       "      <td>49.467513</td>\n",
       "      <td>1.818492</td>\n",
       "      <td>2.153175</td>\n",
       "    </tr>\n",
       "  </tbody>\n",
       "</table>\n",
       "</div>"
      ],
      "text/plain": [
       "                     price       mileage         tax        mpg  engineSize  \\\n",
       "transmission                                                                  \n",
       "Automatic     22589.528061  18896.150000  142.987245  48.536327    1.905306   \n",
       "Manual        13709.165552  24757.289476   99.508336  56.559541    1.449867   \n",
       "Semi-Auto     21654.315873  17112.302381  130.037037  49.467513    1.818492   \n",
       "\n",
       "               car age  \n",
       "transmission            \n",
       "Automatic     2.359694  \n",
       "Manual        3.061485  \n",
       "Semi-Auto     2.153175  "
      ]
     },
     "execution_count": 12,
     "metadata": {},
     "output_type": "execute_result"
    }
   ],
   "source": [
    "grouped_by = df.groupby('transmission').mean()\n",
    "grouped_by"
   ]
  },
  {
   "cell_type": "code",
   "execution_count": 13,
   "metadata": {},
   "outputs": [
    {
     "data": {
      "image/png": "[encoded data removed]",
      "text/plain": [
       "<Figure size 432x288 with 1 Axes>"
      ]
     },
     "metadata": {
      "needs_background": "light"
     },
     "output_type": "display_data"
    }
   ],
   "source": [
    "ax = sns.barplot(x=grouped_by.index, y=\"price\", data=grouped_by)\n",
    "\n",
    "ax = sns.barplot(x=grouped_by.index, y=\"mileage\", data=grouped_by)"
   ]
  },
  {
   "cell_type": "markdown",
   "metadata": {},
   "source": [
    "# Standard Scaler"
   ]
  },
  {
   "cell_type": "code",
   "execution_count": 14,
   "metadata": {},
   "outputs": [],
   "source": [
    "encoder= ce.BinaryEncoder(cols=['model', 'fuelType', \"transmission\"],return_df=True)\n",
    "df = encoder.fit_transform(df) "
   ]
  },
  {
   "cell_type": "code",
   "execution_count": 15,
   "metadata": {},
   "outputs": [],
   "source": [
    "# spliting training and testing data\n",
    "\n",
    "X = df.loc[:, df.columns != 'price']\n",
    "y = df['price'].values.reshape(-1, 1)\n",
    "\n",
    "X_train, X_test, y_train, y_test = train_test_split(X,y,test_size=0.2,random_state=42)"
   ]
  },
  {
   "cell_type": "code",
   "execution_count": 16,
   "metadata": {},
   "outputs": [],
   "source": [
    "X_scaler = StandardScaler().fit(X_train)\n",
    "y_scaler = StandardScaler().fit(y_train)"
   ]
  },
  {
   "cell_type": "code",
   "execution_count": 17,
   "metadata": {},
   "outputs": [],
   "source": [
    "X_train_scaled = X_scaler.transform(X_train)\n",
    "X_test_scaled = X_scaler.transform(X_test)\n",
    "y_train_scaled = y_scaler.transform(y_train)\n",
    "y_test_scaled = y_scaler.transform(y_test)"
   ]
  },
  {
   "cell_type": "code",
   "execution_count": 18,
   "metadata": {
    "scrolled": true
   },
   "outputs": [
    {
     "data": {
      "text/html": [
       "<div>\n",
       "<style scoped>\n",
       "    .dataframe tbody tr th:only-of-type {\n",
       "        vertical-align: middle;\n",
       "    }\n",
       "\n",
       "    .dataframe tbody tr th {\n",
       "        vertical-align: top;\n",
       "    }\n",
       "\n",
       "    .dataframe thead th {\n",
       "        text-align: right;\n",
       "    }\n",
       "</style>\n",
       "<table border=\"1\" class=\"dataframe\">\n",
       "  <thead>\n",
       "    <tr style=\"text-align: right;\">\n",
       "      <th></th>\n",
       "      <th>model_0</th>\n",
       "      <th>model_1</th>\n",
       "      <th>model_2</th>\n",
       "      <th>model_3</th>\n",
       "      <th>model_4</th>\n",
       "      <th>model_5</th>\n",
       "      <th>price</th>\n",
       "      <th>transmission_0</th>\n",
       "      <th>transmission_1</th>\n",
       "      <th>transmission_2</th>\n",
       "      <th>mileage</th>\n",
       "      <th>fuelType_0</th>\n",
       "      <th>fuelType_1</th>\n",
       "      <th>fuelType_2</th>\n",
       "      <th>tax</th>\n",
       "      <th>mpg</th>\n",
       "      <th>engineSize</th>\n",
       "      <th>car age</th>\n",
       "    </tr>\n",
       "  </thead>\n",
       "  <tbody>\n",
       "    <tr>\n",
       "      <th>0</th>\n",
       "      <td>0</td>\n",
       "      <td>0</td>\n",
       "      <td>0</td>\n",
       "      <td>0</td>\n",
       "      <td>0</td>\n",
       "      <td>1</td>\n",
       "      <td>25000</td>\n",
       "      <td>0</td>\n",
       "      <td>0</td>\n",
       "      <td>1</td>\n",
       "      <td>13904</td>\n",
       "      <td>0</td>\n",
       "      <td>0</td>\n",
       "      <td>1</td>\n",
       "      <td>145</td>\n",
       "      <td>49.6</td>\n",
       "      <td>2.0</td>\n",
       "      <td>1</td>\n",
       "    </tr>\n",
       "    <tr>\n",
       "      <th>1</th>\n",
       "      <td>0</td>\n",
       "      <td>0</td>\n",
       "      <td>0</td>\n",
       "      <td>0</td>\n",
       "      <td>0</td>\n",
       "      <td>1</td>\n",
       "      <td>26883</td>\n",
       "      <td>0</td>\n",
       "      <td>0</td>\n",
       "      <td>1</td>\n",
       "      <td>4562</td>\n",
       "      <td>0</td>\n",
       "      <td>0</td>\n",
       "      <td>1</td>\n",
       "      <td>145</td>\n",
       "      <td>49.6</td>\n",
       "      <td>2.0</td>\n",
       "      <td>1</td>\n",
       "    </tr>\n",
       "    <tr>\n",
       "      <th>2</th>\n",
       "      <td>0</td>\n",
       "      <td>0</td>\n",
       "      <td>0</td>\n",
       "      <td>0</td>\n",
       "      <td>0</td>\n",
       "      <td>1</td>\n",
       "      <td>20000</td>\n",
       "      <td>0</td>\n",
       "      <td>1</td>\n",
       "      <td>0</td>\n",
       "      <td>7414</td>\n",
       "      <td>0</td>\n",
       "      <td>0</td>\n",
       "      <td>1</td>\n",
       "      <td>145</td>\n",
       "      <td>50.4</td>\n",
       "      <td>2.0</td>\n",
       "      <td>1</td>\n",
       "    </tr>\n",
       "    <tr>\n",
       "      <th>3</th>\n",
       "      <td>0</td>\n",
       "      <td>0</td>\n",
       "      <td>0</td>\n",
       "      <td>0</td>\n",
       "      <td>0</td>\n",
       "      <td>1</td>\n",
       "      <td>33492</td>\n",
       "      <td>0</td>\n",
       "      <td>0</td>\n",
       "      <td>1</td>\n",
       "      <td>4825</td>\n",
       "      <td>0</td>\n",
       "      <td>1</td>\n",
       "      <td>0</td>\n",
       "      <td>145</td>\n",
       "      <td>32.5</td>\n",
       "      <td>2.0</td>\n",
       "      <td>1</td>\n",
       "    </tr>\n",
       "    <tr>\n",
       "      <th>4</th>\n",
       "      <td>0</td>\n",
       "      <td>0</td>\n",
       "      <td>0</td>\n",
       "      <td>0</td>\n",
       "      <td>0</td>\n",
       "      <td>1</td>\n",
       "      <td>22900</td>\n",
       "      <td>0</td>\n",
       "      <td>1</td>\n",
       "      <td>1</td>\n",
       "      <td>6500</td>\n",
       "      <td>0</td>\n",
       "      <td>1</td>\n",
       "      <td>0</td>\n",
       "      <td>150</td>\n",
       "      <td>39.8</td>\n",
       "      <td>1.5</td>\n",
       "      <td>1</td>\n",
       "    </tr>\n",
       "  </tbody>\n",
       "</table>\n",
       "</div>"
      ],
      "text/plain": [
       "   model_0  model_1  model_2  model_3  model_4  model_5  price  \\\n",
       "0        0        0        0        0        0        1  25000   \n",
       "1        0        0        0        0        0        1  26883   \n",
       "2        0        0        0        0        0        1  20000   \n",
       "3        0        0        0        0        0        1  33492   \n",
       "4        0        0        0        0        0        1  22900   \n",
       "\n",
       "   transmission_0  transmission_1  transmission_2  mileage  fuelType_0  \\\n",
       "0               0               0               1    13904           0   \n",
       "1               0               0               1     4562           0   \n",
       "2               0               1               0     7414           0   \n",
       "3               0               0               1     4825           0   \n",
       "4               0               1               1     6500           0   \n",
       "\n",
       "   fuelType_1  fuelType_2  tax   mpg  engineSize  car age  \n",
       "0           0           1  145  49.6         2.0        1  \n",
       "1           0           1  145  49.6         2.0        1  \n",
       "2           0           1  145  50.4         2.0        1  \n",
       "3           1           0  145  32.5         2.0        1  \n",
       "4           1           0  150  39.8         1.5        1  "
      ]
     },
     "execution_count": 18,
     "metadata": {},
     "output_type": "execute_result"
    }
   ],
   "source": [
    "# Plot the results \n",
    "model = LinearRegression()\n",
    "model.fit(X_train_scaled, y_train_scaled)\n",
    "# plt.scatter(model.predict(X_train_scaled), model.predict(X_train_scaled) - y_train_scaled, c=\"blue\", label=\"Training Data\")\n",
    "# plt.scatter(model.predict(X_test_scaled), model.predict(X_test_scaled) - y_test_scaled, c=\"orange\", label=\"Testing Data\")\n",
    "# plt.legend()\n",
    "# plt.hlines(y=0, xmin=y_test_scaled.min(), xmax=y_test_scaled.max())\n",
    "# plt.title(\"Residual Plot\")\n",
    "# plt.show()\n",
    "\n",
    "df.head()\n",
    "\n",
    "# Plots\n",
    "\n"
   ]
  },
  {
   "cell_type": "code",
   "execution_count": 19,
   "metadata": {},
   "outputs": [
    {
     "name": "stdout",
     "output_type": "stream",
     "text": [
      "MSE: 0.18815344296012304, R2: 0.8087524970102447\n"
     ]
    }
   ],
   "source": [
    "predictions = model.predict(X_test_scaled)\n",
    "MSE = mean_squared_error(y_test_scaled, predictions)\n",
    "r2 = model.score(X_test_scaled, y_test_scaled)\n",
    "\n",
    "print(f\"MSE: {MSE}, R2: {r2}\")\n",
    "# R^2 of .808!"
   ]
  },
  {
   "cell_type": "code",
   "execution_count": 20,
   "metadata": {},
   "outputs": [
    {
     "data": {
      "text/plain": [
       "array([[ 0.00000000e+00,  4.71244547e-03,  1.82609978e-02,\n",
       "         9.81231916e-02,  4.23842728e-02, -4.26065494e-02,\n",
       "         1.52655666e-16, -2.89924604e-02,  9.76613808e-02,\n",
       "        -1.87714320e-01,  2.33912206e-01,  1.54999334e-01,\n",
       "         1.15887812e-01, -4.58432212e-02, -2.53880901e-01,\n",
       "         5.09259884e-01, -3.75571503e-01]])"
      ]
     },
     "execution_count": 20,
     "metadata": {},
     "output_type": "execute_result"
    }
   ],
   "source": [
    "model.coef_"
   ]
  },
  {
   "cell_type": "markdown",
   "metadata": {},
   "source": [
    "# Import all dataframes"
   ]
  },
  {
   "cell_type": "code",
   "execution_count": 21,
   "metadata": {},
   "outputs": [],
   "source": [
    "csv_list = os.listdir('Resources/')"
   ]
  },
  {
   "cell_type": "code",
   "execution_count": 22,
   "metadata": {},
   "outputs": [],
   "source": [
    "holder = []\n",
    "for csv in csv_list:\n",
    "    df = pd.read_csv(f\"Resources/{csv}\")\n",
    "    df['Maker'] = csv.split('.')[0]\n",
    "    if \"tax(£)\" in df.columns:\n",
    "        df.rename(columns={\"tax(£)\": \"tax\"}, inplace = True)\n",
    "        df['tax'] = df['tax'] * 1.39\n",
    "    \n",
    "    if len(df.columns) == 10:\n",
    "        holder.append(df)"
   ]
  },
  {
   "cell_type": "code",
   "execution_count": 23,
   "metadata": {},
   "outputs": [
    {
     "name": "stdout",
     "output_type": "stream",
     "text": [
      "Index(['model', 'year', 'price', 'transmission', 'mileage', 'fuelType', 'tax',\n",
      "       'mpg', 'engineSize', 'Maker'],\n",
      "      dtype='object') 10\n",
      "Index(['model', 'year', 'price', 'transmission', 'mileage', 'fuelType', 'tax',\n",
      "       'mpg', 'engineSize', 'Maker'],\n",
      "      dtype='object') 10\n",
      "Index(['model', 'year', 'price', 'transmission', 'mileage', 'fuelType', 'tax',\n",
      "       'mpg', 'engineSize', 'Maker'],\n",
      "      dtype='object') 10\n",
      "Index(['model', 'year', 'price', 'transmission', 'mileage', 'fuelType', 'tax',\n",
      "       'mpg', 'engineSize', 'Maker'],\n",
      "      dtype='object') 10\n",
      "Index(['model', 'year', 'price', 'transmission', 'mileage', 'fuelType', 'tax',\n",
      "       'mpg', 'engineSize', 'Maker'],\n",
      "      dtype='object') 10\n",
      "Index(['model', 'year', 'price', 'transmission', 'mileage', 'fuelType', 'tax',\n",
      "       'mpg', 'engineSize', 'Maker'],\n",
      "      dtype='object') 10\n",
      "Index(['model', 'year', 'price', 'transmission', 'mileage', 'fuelType', 'tax',\n",
      "       'mpg', 'engineSize', 'Maker'],\n",
      "      dtype='object') 10\n",
      "Index(['model', 'year', 'price', 'transmission', 'mileage', 'fuelType', 'tax',\n",
      "       'mpg', 'engineSize', 'Maker'],\n",
      "      dtype='object') 10\n",
      "Index(['model', 'year', 'price', 'transmission', 'mileage', 'fuelType', 'tax',\n",
      "       'mpg', 'engineSize', 'Maker'],\n",
      "      dtype='object') 10\n"
     ]
    }
   ],
   "source": [
    "for i in range(len(holder)):\n",
    "    print(holder[i].columns, len(holder[i].columns))"
   ]
  },
  {
   "cell_type": "code",
   "execution_count": 24,
   "metadata": {},
   "outputs": [],
   "source": [
    "df = pd.concat(holder)"
   ]
  },
  {
   "cell_type": "code",
   "execution_count": 25,
   "metadata": {},
   "outputs": [],
   "source": [
    "df['car age'] = 2021 - df['year']"
   ]
  },
  {
   "cell_type": "code",
   "execution_count": 26,
   "metadata": {},
   "outputs": [],
   "source": [
    "df.drop(['year'], axis = 1, inplace = True)"
   ]
  },
  {
   "cell_type": "code",
   "execution_count": 27,
   "metadata": {},
   "outputs": [],
   "source": [
    "df.drop(index=17726, inplace = True)"
   ]
  },
  {
   "cell_type": "markdown",
   "metadata": {},
   "source": [
    "# Analysis"
   ]
  },
  {
   "cell_type": "code",
   "execution_count": 28,
   "metadata": {},
   "outputs": [
    {
     "data": {
      "text/html": [
       "<div>\n",
       "<style scoped>\n",
       "    .dataframe tbody tr th:only-of-type {\n",
       "        vertical-align: middle;\n",
       "    }\n",
       "\n",
       "    .dataframe tbody tr th {\n",
       "        vertical-align: top;\n",
       "    }\n",
       "\n",
       "    .dataframe thead th {\n",
       "        text-align: right;\n",
       "    }\n",
       "</style>\n",
       "<table border=\"1\" class=\"dataframe\">\n",
       "  <thead>\n",
       "    <tr style=\"text-align: right;\">\n",
       "      <th></th>\n",
       "      <th>price</th>\n",
       "      <th>mileage</th>\n",
       "      <th>tax</th>\n",
       "      <th>mpg</th>\n",
       "      <th>engineSize</th>\n",
       "      <th>car age</th>\n",
       "    </tr>\n",
       "    <tr>\n",
       "      <th>Maker</th>\n",
       "      <th></th>\n",
       "      <th></th>\n",
       "      <th></th>\n",
       "      <th></th>\n",
       "      <th></th>\n",
       "      <th></th>\n",
       "    </tr>\n",
       "  </thead>\n",
       "  <tbody>\n",
       "    <tr>\n",
       "      <th>audi</th>\n",
       "      <td>22896.685039</td>\n",
       "      <td>24827.244001</td>\n",
       "      <td>126.011436</td>\n",
       "      <td>50.770022</td>\n",
       "      <td>1.930709</td>\n",
       "      <td>3.899325</td>\n",
       "    </tr>\n",
       "    <tr>\n",
       "      <th>bmw</th>\n",
       "      <td>22733.408867</td>\n",
       "      <td>25496.986550</td>\n",
       "      <td>131.702068</td>\n",
       "      <td>56.399035</td>\n",
       "      <td>2.167767</td>\n",
       "      <td>3.921065</td>\n",
       "    </tr>\n",
       "    <tr>\n",
       "      <th>ford</th>\n",
       "      <td>12280.078435</td>\n",
       "      <td>23361.880149</td>\n",
       "      <td>113.329437</td>\n",
       "      <td>57.907832</td>\n",
       "      <td>1.350824</td>\n",
       "      <td>4.135827</td>\n",
       "    </tr>\n",
       "    <tr>\n",
       "      <th>hyundi</th>\n",
       "      <td>12750.131070</td>\n",
       "      <td>21486.049588</td>\n",
       "      <td>168.394496</td>\n",
       "      <td>53.827798</td>\n",
       "      <td>1.457922</td>\n",
       "      <td>3.892387</td>\n",
       "    </tr>\n",
       "    <tr>\n",
       "      <th>merc</th>\n",
       "      <td>24698.596920</td>\n",
       "      <td>21949.559037</td>\n",
       "      <td>129.972178</td>\n",
       "      <td>55.155843</td>\n",
       "      <td>2.071530</td>\n",
       "      <td>3.703712</td>\n",
       "    </tr>\n",
       "  </tbody>\n",
       "</table>\n",
       "</div>"
      ],
      "text/plain": [
       "               price       mileage         tax        mpg  engineSize  \\\n",
       "Maker                                                                   \n",
       "audi    22896.685039  24827.244001  126.011436  50.770022    1.930709   \n",
       "bmw     22733.408867  25496.986550  131.702068  56.399035    2.167767   \n",
       "ford    12280.078435  23361.880149  113.329437  57.907832    1.350824   \n",
       "hyundi  12750.131070  21486.049588  168.394496  53.827798    1.457922   \n",
       "merc    24698.596920  21949.559037  129.972178  55.155843    2.071530   \n",
       "\n",
       "         car age  \n",
       "Maker             \n",
       "audi    3.899325  \n",
       "bmw     3.921065  \n",
       "ford    4.135827  \n",
       "hyundi  3.892387  \n",
       "merc    3.703712  "
      ]
     },
     "execution_count": 28,
     "metadata": {},
     "output_type": "execute_result"
    }
   ],
   "source": [
    "grouped_by = df.groupby('Maker').mean()\n",
    "grouped_by.head()"
   ]
  },
  {
   "cell_type": "code",
   "execution_count": 29,
   "metadata": {},
   "outputs": [
    {
     "data": {
      "image/png": "[encoded data removed]",
      "text/plain": [
       "<Figure size 432x288 with 1 Axes>"
      ]
     },
     "metadata": {},
     "output_type": "display_data"
    }
   ],
   "source": [
    "#Looks like the makers all have cars on the market between 3.5-4 years old\n",
    "sns.set_theme(style=\"whitegrid\")\n",
    "ax = sns.barplot(x=grouped_by.index, y=\"car age\", data=grouped_by)"
   ]
  },
  {
   "cell_type": "code",
   "execution_count": 30,
   "metadata": {},
   "outputs": [
    {
     "data": {
      "image/png": "[encoded data removed]",
      "text/plain": [
       "<Figure size 432x288 with 1 Axes>"
      ]
     },
     "metadata": {},
     "output_type": "display_data"
    }
   ],
   "source": [
    "#Looks like the makers all have cars on the market has between 20-25k in mileage\n",
    "sns.set_theme(style=\"whitegrid\")\n",
    "ax = sns.barplot(x=grouped_by.index, y=\"mileage\", data=grouped_by)"
   ]
  },
  {
   "cell_type": "code",
   "execution_count": 31,
   "metadata": {},
   "outputs": [
    {
     "data": {
      "image/png": "[encoded data removed]",
      "text/plain": [
       "<Figure size 432x288 with 1 Axes>"
      ]
     },
     "metadata": {},
     "output_type": "display_data"
    }
   ],
   "source": [
    "ax = sns.barplot(x=grouped_by.index, y=\"price\", data=grouped_by)"
   ]
  },
  {
   "cell_type": "code",
   "execution_count": 32,
   "metadata": {},
   "outputs": [
    {
     "data": {
      "image/png": "[encoded data removed]",
      "text/plain": [
       "<Figure size 432x288 with 1 Axes>"
      ]
     },
     "metadata": {},
     "output_type": "display_data"
    }
   ],
   "source": [
    "# There might be a correlation between the miles per gallon of these cars and the tax on them\n",
    "ax = sns.scatterplot(data=df, x=\"mpg\", y=\"tax\")"
   ]
  },
  {
   "cell_type": "code",
   "execution_count": 33,
   "metadata": {},
   "outputs": [
    {
     "data": {
      "text/html": [
       "<div>\n",
       "<style scoped>\n",
       "    .dataframe tbody tr th:only-of-type {\n",
       "        vertical-align: middle;\n",
       "    }\n",
       "\n",
       "    .dataframe tbody tr th {\n",
       "        vertical-align: top;\n",
       "    }\n",
       "\n",
       "    .dataframe thead th {\n",
       "        text-align: right;\n",
       "    }\n",
       "</style>\n",
       "<table border=\"1\" class=\"dataframe\">\n",
       "  <thead>\n",
       "    <tr style=\"text-align: right;\">\n",
       "      <th></th>\n",
       "      <th>model</th>\n",
       "      <th>price</th>\n",
       "      <th>transmission</th>\n",
       "      <th>mileage</th>\n",
       "      <th>fuelType</th>\n",
       "      <th>tax</th>\n",
       "      <th>mpg</th>\n",
       "      <th>engineSize</th>\n",
       "      <th>Maker</th>\n",
       "      <th>car age</th>\n",
       "    </tr>\n",
       "  </thead>\n",
       "  <tbody>\n",
       "    <tr>\n",
       "      <th>0</th>\n",
       "      <td>A1</td>\n",
       "      <td>12500</td>\n",
       "      <td>Manual</td>\n",
       "      <td>15735</td>\n",
       "      <td>Petrol</td>\n",
       "      <td>150.0</td>\n",
       "      <td>55.4</td>\n",
       "      <td>1.4</td>\n",
       "      <td>audi</td>\n",
       "      <td>4</td>\n",
       "    </tr>\n",
       "    <tr>\n",
       "      <th>1</th>\n",
       "      <td>A6</td>\n",
       "      <td>16500</td>\n",
       "      <td>Automatic</td>\n",
       "      <td>36203</td>\n",
       "      <td>Diesel</td>\n",
       "      <td>20.0</td>\n",
       "      <td>64.2</td>\n",
       "      <td>2.0</td>\n",
       "      <td>audi</td>\n",
       "      <td>5</td>\n",
       "    </tr>\n",
       "    <tr>\n",
       "      <th>2</th>\n",
       "      <td>A1</td>\n",
       "      <td>11000</td>\n",
       "      <td>Manual</td>\n",
       "      <td>29946</td>\n",
       "      <td>Petrol</td>\n",
       "      <td>30.0</td>\n",
       "      <td>55.4</td>\n",
       "      <td>1.4</td>\n",
       "      <td>audi</td>\n",
       "      <td>5</td>\n",
       "    </tr>\n",
       "    <tr>\n",
       "      <th>3</th>\n",
       "      <td>A4</td>\n",
       "      <td>16800</td>\n",
       "      <td>Automatic</td>\n",
       "      <td>25952</td>\n",
       "      <td>Diesel</td>\n",
       "      <td>145.0</td>\n",
       "      <td>67.3</td>\n",
       "      <td>2.0</td>\n",
       "      <td>audi</td>\n",
       "      <td>4</td>\n",
       "    </tr>\n",
       "    <tr>\n",
       "      <th>4</th>\n",
       "      <td>A3</td>\n",
       "      <td>17300</td>\n",
       "      <td>Manual</td>\n",
       "      <td>1998</td>\n",
       "      <td>Petrol</td>\n",
       "      <td>145.0</td>\n",
       "      <td>49.6</td>\n",
       "      <td>1.0</td>\n",
       "      <td>audi</td>\n",
       "      <td>2</td>\n",
       "    </tr>\n",
       "  </tbody>\n",
       "</table>\n",
       "</div>"
      ],
      "text/plain": [
       "  model  price transmission  mileage fuelType    tax   mpg  engineSize Maker  \\\n",
       "0    A1  12500       Manual    15735   Petrol  150.0  55.4         1.4  audi   \n",
       "1    A6  16500    Automatic    36203   Diesel   20.0  64.2         2.0  audi   \n",
       "2    A1  11000       Manual    29946   Petrol   30.0  55.4         1.4  audi   \n",
       "3    A4  16800    Automatic    25952   Diesel  145.0  67.3         2.0  audi   \n",
       "4    A3  17300       Manual     1998   Petrol  145.0  49.6         1.0  audi   \n",
       "\n",
       "   car age  \n",
       "0        4  \n",
       "1        5  \n",
       "2        5  \n",
       "3        4  \n",
       "4        2  "
      ]
     },
     "execution_count": 33,
     "metadata": {},
     "output_type": "execute_result"
    }
   ],
   "source": [
    "df.head()"
   ]
  },
  {
   "cell_type": "code",
   "execution_count": 34,
   "metadata": {},
   "outputs": [
    {
     "data": {
      "image/png": "[encoded data removed]",
      "text/plain": [
       "<Figure size 432x288 with 1 Axes>"
      ]
     },
     "metadata": {},
     "output_type": "display_data"
    }
   ],
   "source": [
    "ax = sns.scatterplot(data=df, x=\"mileage\", y=\"price\")"
   ]
  },
  {
   "cell_type": "code",
   "execution_count": 35,
   "metadata": {
    "scrolled": true
   },
   "outputs": [
    {
     "data": {
      "image/png": "[encoded data removed]",
      "text/plain": [
       "<Figure size 432x288 with 1 Axes>"
      ]
     },
     "metadata": {},
     "output_type": "display_data"
    }
   ],
   "source": [
    "ax = sns.scatterplot(data=df, x=\"car age\", y=\"price\")"
   ]
  },
  {
   "cell_type": "code",
   "execution_count": 36,
   "metadata": {},
   "outputs": [],
   "source": [
    "grouped_by_fuel = df.groupby('fuelType').mean()"
   ]
  },
  {
   "cell_type": "code",
   "execution_count": 37,
   "metadata": {},
   "outputs": [
    {
     "data": {
      "image/png": "[encoded data removed]",
      "text/plain": [
       "<Figure size 432x288 with 1 Axes>"
      ]
     },
     "metadata": {},
     "output_type": "display_data"
    }
   ],
   "source": [
    "# Petrol seems to be cheaper and Diesel more expensive\n",
    "ax = sns.barplot(x=grouped_by_fuel.index, y=\"price\", data=grouped_by_fuel)"
   ]
  },
  {
   "cell_type": "code",
   "execution_count": 38,
   "metadata": {},
   "outputs": [
    {
     "data": {
      "image/png": "[encoded data removed]",
      "text/plain": [
       "<Figure size 432x288 with 1 Axes>"
      ]
     },
     "metadata": {},
     "output_type": "display_data"
    }
   ],
   "source": [
    "# Naturally Electric had better MPG\n",
    "ax = sns.barplot(x=grouped_by_fuel.index, y=\"mpg\", data=grouped_by_fuel)"
   ]
  },
  {
   "cell_type": "code",
   "execution_count": 39,
   "metadata": {},
   "outputs": [
    {
     "data": {
      "image/png": "[encoded data removed]",
      "text/plain": [
       "<Figure size 432x288 with 1 Axes>"
      ]
     },
     "metadata": {},
     "output_type": "display_data"
    }
   ],
   "source": [
    "# Petrol has the least amount of mileage while on the market, perhaps they don't like how it's run? Let's look deeper\n",
    "ax = sns.barplot(x=grouped_by_fuel.index, y=\"mileage\", data=grouped_by_fuel)"
   ]
  },
  {
   "cell_type": "code",
   "execution_count": 40,
   "metadata": {},
   "outputs": [
    {
     "data": {
      "text/html": [
       "<div>\n",
       "<style scoped>\n",
       "    .dataframe tbody tr th:only-of-type {\n",
       "        vertical-align: middle;\n",
       "    }\n",
       "\n",
       "    .dataframe tbody tr th {\n",
       "        vertical-align: top;\n",
       "    }\n",
       "\n",
       "    .dataframe thead th {\n",
       "        text-align: right;\n",
       "    }\n",
       "</style>\n",
       "<table border=\"1\" class=\"dataframe\">\n",
       "  <thead>\n",
       "    <tr style=\"text-align: right;\">\n",
       "      <th></th>\n",
       "      <th>model</th>\n",
       "      <th>price</th>\n",
       "      <th>transmission</th>\n",
       "      <th>mileage</th>\n",
       "      <th>fuelType</th>\n",
       "      <th>tax</th>\n",
       "      <th>mpg</th>\n",
       "      <th>engineSize</th>\n",
       "      <th>car age</th>\n",
       "    </tr>\n",
       "    <tr>\n",
       "      <th>Maker</th>\n",
       "      <th></th>\n",
       "      <th></th>\n",
       "      <th></th>\n",
       "      <th></th>\n",
       "      <th></th>\n",
       "      <th></th>\n",
       "      <th></th>\n",
       "      <th></th>\n",
       "      <th></th>\n",
       "    </tr>\n",
       "  </thead>\n",
       "  <tbody>\n",
       "    <tr>\n",
       "      <th>audi</th>\n",
       "      <td>5063</td>\n",
       "      <td>5063</td>\n",
       "      <td>5063</td>\n",
       "      <td>5063</td>\n",
       "      <td>5063</td>\n",
       "      <td>5063</td>\n",
       "      <td>5063</td>\n",
       "      <td>5063</td>\n",
       "      <td>5063</td>\n",
       "    </tr>\n",
       "    <tr>\n",
       "      <th>bmw</th>\n",
       "      <td>3417</td>\n",
       "      <td>3417</td>\n",
       "      <td>3417</td>\n",
       "      <td>3417</td>\n",
       "      <td>3417</td>\n",
       "      <td>3417</td>\n",
       "      <td>3417</td>\n",
       "      <td>3417</td>\n",
       "      <td>3417</td>\n",
       "    </tr>\n",
       "    <tr>\n",
       "      <th>ford</th>\n",
       "      <td>12177</td>\n",
       "      <td>12177</td>\n",
       "      <td>12177</td>\n",
       "      <td>12177</td>\n",
       "      <td>12177</td>\n",
       "      <td>12177</td>\n",
       "      <td>12177</td>\n",
       "      <td>12177</td>\n",
       "      <td>12177</td>\n",
       "    </tr>\n",
       "    <tr>\n",
       "      <th>hyundi</th>\n",
       "      <td>2902</td>\n",
       "      <td>2902</td>\n",
       "      <td>2902</td>\n",
       "      <td>2902</td>\n",
       "      <td>2902</td>\n",
       "      <td>2902</td>\n",
       "      <td>2902</td>\n",
       "      <td>2902</td>\n",
       "      <td>2902</td>\n",
       "    </tr>\n",
       "    <tr>\n",
       "      <th>merc</th>\n",
       "      <td>3752</td>\n",
       "      <td>3752</td>\n",
       "      <td>3752</td>\n",
       "      <td>3752</td>\n",
       "      <td>3752</td>\n",
       "      <td>3752</td>\n",
       "      <td>3752</td>\n",
       "      <td>3752</td>\n",
       "      <td>3752</td>\n",
       "    </tr>\n",
       "    <tr>\n",
       "      <th>skoda</th>\n",
       "      <td>4171</td>\n",
       "      <td>4171</td>\n",
       "      <td>4171</td>\n",
       "      <td>4171</td>\n",
       "      <td>4171</td>\n",
       "      <td>4171</td>\n",
       "      <td>4171</td>\n",
       "      <td>4171</td>\n",
       "      <td>4171</td>\n",
       "    </tr>\n",
       "    <tr>\n",
       "      <th>toyota</th>\n",
       "      <td>4087</td>\n",
       "      <td>4087</td>\n",
       "      <td>4087</td>\n",
       "      <td>4087</td>\n",
       "      <td>4087</td>\n",
       "      <td>4087</td>\n",
       "      <td>4087</td>\n",
       "      <td>4087</td>\n",
       "      <td>4087</td>\n",
       "    </tr>\n",
       "    <tr>\n",
       "      <th>vauxhall</th>\n",
       "      <td>10805</td>\n",
       "      <td>10805</td>\n",
       "      <td>10805</td>\n",
       "      <td>10805</td>\n",
       "      <td>10805</td>\n",
       "      <td>10805</td>\n",
       "      <td>10805</td>\n",
       "      <td>10805</td>\n",
       "      <td>10805</td>\n",
       "    </tr>\n",
       "    <tr>\n",
       "      <th>vw</th>\n",
       "      <td>8553</td>\n",
       "      <td>8553</td>\n",
       "      <td>8553</td>\n",
       "      <td>8553</td>\n",
       "      <td>8553</td>\n",
       "      <td>8553</td>\n",
       "      <td>8553</td>\n",
       "      <td>8553</td>\n",
       "      <td>8553</td>\n",
       "    </tr>\n",
       "  </tbody>\n",
       "</table>\n",
       "</div>"
      ],
      "text/plain": [
       "          model  price  transmission  mileage  fuelType    tax    mpg  \\\n",
       "Maker                                                                   \n",
       "audi       5063   5063          5063     5063      5063   5063   5063   \n",
       "bmw        3417   3417          3417     3417      3417   3417   3417   \n",
       "ford      12177  12177         12177    12177     12177  12177  12177   \n",
       "hyundi     2902   2902          2902     2902      2902   2902   2902   \n",
       "merc       3752   3752          3752     3752      3752   3752   3752   \n",
       "skoda      4171   4171          4171     4171      4171   4171   4171   \n",
       "toyota     4087   4087          4087     4087      4087   4087   4087   \n",
       "vauxhall  10805  10805         10805    10805     10805  10805  10805   \n",
       "vw         8553   8553          8553     8553      8553   8553   8553   \n",
       "\n",
       "          engineSize  car age  \n",
       "Maker                          \n",
       "audi            5063     5063  \n",
       "bmw             3417     3417  \n",
       "ford           12177    12177  \n",
       "hyundi          2902     2902  \n",
       "merc            3752     3752  \n",
       "skoda           4171     4171  \n",
       "toyota          4087     4087  \n",
       "vauxhall       10805    10805  \n",
       "vw              8553     8553  "
      ]
     },
     "execution_count": 40,
     "metadata": {},
     "output_type": "execute_result"
    }
   ],
   "source": [
    "petrol_df = df[df['fuelType'] == 'Petrol']\n",
    "petrol_group_by = petrol_df.groupby(['Maker']).count()\n",
    "petrol_group_by"
   ]
  },
  {
   "cell_type": "code",
   "execution_count": 41,
   "metadata": {},
   "outputs": [
    {
     "data": {
      "text/plain": [
       "[Text(0, 0.5, 'Count'), Text(0.5, 0, 'Maker')]"
      ]
     },
     "execution_count": 41,
     "metadata": {},
     "output_type": "execute_result"
    },
    {
     "data": {
      "image/png": "[encoded data removed]",
      "text/plain": [
       "<Figure size 432x288 with 1 Axes>"
      ]
     },
     "metadata": {},
     "output_type": "display_data"
    }
   ],
   "source": [
    "# It looks like Ford and Vauxhall have the most petrol cars on the market, is that all Ford produces?\n",
    "ax = sns.barplot(x=petrol_group_by.index, y=\"price\", data=petrol_group_by)\n",
    "ax.set(xlabel='Maker', ylabel='Count')"
   ]
  },
  {
   "cell_type": "code",
   "execution_count": 42,
   "metadata": {},
   "outputs": [],
   "source": [
    "ford_df = df[df['Maker'] == 'ford']"
   ]
  },
  {
   "cell_type": "code",
   "execution_count": 43,
   "metadata": {},
   "outputs": [],
   "source": [
    "ford_group_by_df = ford_df.groupby(\"fuelType\").count()"
   ]
  },
  {
   "cell_type": "code",
   "execution_count": 44,
   "metadata": {},
   "outputs": [
    {
     "data": {
      "text/plain": [
       "[Text(0, 0.5, 'Count'), Text(0.5, 0, 'Fuel Type')]"
      ]
     },
     "execution_count": 44,
     "metadata": {},
     "output_type": "execute_result"
    },
    {
     "data": {
      "image/png": "[encoded data removed]",
      "text/plain": [
       "<Figure size 432x288 with 1 Axes>"
      ]
     },
     "metadata": {},
     "output_type": "display_data"
    }
   ],
   "source": [
    "# Heavily!\n",
    "ax = sns.barplot(x=ford_group_by_df.index, y=\"price\", data=ford_group_by_df)\n",
    "ax.set(xlabel='Fuel Type', ylabel='Count')"
   ]
  },
  {
   "cell_type": "markdown",
   "metadata": {},
   "source": [
    "# pre-processing"
   ]
  },
  {
   "cell_type": "code",
   "execution_count": 45,
   "metadata": {},
   "outputs": [],
   "source": [
    "# df.drop(columns='Maker',inplace = True)\n",
    "encoder= ce.BinaryEncoder(cols=['model', 'fuelType', \"transmission\", 'Maker'],return_df=True)\n",
    "df = encoder.fit_transform(df) "
   ]
  },
  {
   "cell_type": "code",
   "execution_count": 46,
   "metadata": {},
   "outputs": [],
   "source": [
    "# spliting training and testing data\n",
    "\n",
    "X = df.loc[:, df.columns != 'price']\n",
    "y = df['price'].values.reshape(-1, 1)\n",
    "\n",
    "X_train, X_test, y_train, y_test = train_test_split(X,y,test_size=0.2,random_state=42)"
   ]
  },
  {
   "cell_type": "code",
   "execution_count": 47,
   "metadata": {},
   "outputs": [],
   "source": [
    "X_scaler = StandardScaler().fit(X_train)\n",
    "y_scaler = StandardScaler().fit(y_train)"
   ]
  },
  {
   "cell_type": "code",
   "execution_count": 48,
   "metadata": {},
   "outputs": [],
   "source": [
    "X_train_scaled = X_scaler.transform(X_train)\n",
    "X_test_scaled = X_scaler.transform(X_test)\n",
    "y_train_scaled = y_scaler.transform(y_train)\n",
    "y_test_scaled = y_scaler.transform(y_test)"
   ]
  },
  {
   "cell_type": "code",
   "execution_count": 49,
   "metadata": {
    "scrolled": true
   },
   "outputs": [
    {
     "data": {
      "image/png": "[encoded data removed]",
      "text/plain": [
       "<Figure size 432x288 with 1 Axes>"
      ]
     },
     "metadata": {},
     "output_type": "display_data"
    },
    {
     "data": {
      "text/html": [
       "<div>\n",
       "<style scoped>\n",
       "    .dataframe tbody tr th:only-of-type {\n",
       "        vertical-align: middle;\n",
       "    }\n",
       "\n",
       "    .dataframe tbody tr th {\n",
       "        vertical-align: top;\n",
       "    }\n",
       "\n",
       "    .dataframe thead th {\n",
       "        text-align: right;\n",
       "    }\n",
       "</style>\n",
       "<table border=\"1\" class=\"dataframe\">\n",
       "  <thead>\n",
       "    <tr style=\"text-align: right;\">\n",
       "      <th></th>\n",
       "      <th>model_0</th>\n",
       "      <th>model_1</th>\n",
       "      <th>model_2</th>\n",
       "      <th>model_3</th>\n",
       "      <th>model_4</th>\n",
       "      <th>model_5</th>\n",
       "      <th>model_6</th>\n",
       "      <th>model_7</th>\n",
       "      <th>model_8</th>\n",
       "      <th>price</th>\n",
       "      <th>...</th>\n",
       "      <th>fuelType_3</th>\n",
       "      <th>tax</th>\n",
       "      <th>mpg</th>\n",
       "      <th>engineSize</th>\n",
       "      <th>Maker_0</th>\n",
       "      <th>Maker_1</th>\n",
       "      <th>Maker_2</th>\n",
       "      <th>Maker_3</th>\n",
       "      <th>Maker_4</th>\n",
       "      <th>car age</th>\n",
       "    </tr>\n",
       "  </thead>\n",
       "  <tbody>\n",
       "    <tr>\n",
       "      <th>0</th>\n",
       "      <td>0</td>\n",
       "      <td>0</td>\n",
       "      <td>0</td>\n",
       "      <td>0</td>\n",
       "      <td>0</td>\n",
       "      <td>0</td>\n",
       "      <td>0</td>\n",
       "      <td>0</td>\n",
       "      <td>1</td>\n",
       "      <td>12500</td>\n",
       "      <td>...</td>\n",
       "      <td>1</td>\n",
       "      <td>150.0</td>\n",
       "      <td>55.4</td>\n",
       "      <td>1.4</td>\n",
       "      <td>0</td>\n",
       "      <td>0</td>\n",
       "      <td>0</td>\n",
       "      <td>0</td>\n",
       "      <td>1</td>\n",
       "      <td>4</td>\n",
       "    </tr>\n",
       "    <tr>\n",
       "      <th>1</th>\n",
       "      <td>0</td>\n",
       "      <td>0</td>\n",
       "      <td>0</td>\n",
       "      <td>0</td>\n",
       "      <td>0</td>\n",
       "      <td>0</td>\n",
       "      <td>0</td>\n",
       "      <td>1</td>\n",
       "      <td>0</td>\n",
       "      <td>16500</td>\n",
       "      <td>...</td>\n",
       "      <td>0</td>\n",
       "      <td>20.0</td>\n",
       "      <td>64.2</td>\n",
       "      <td>2.0</td>\n",
       "      <td>0</td>\n",
       "      <td>0</td>\n",
       "      <td>0</td>\n",
       "      <td>0</td>\n",
       "      <td>1</td>\n",
       "      <td>5</td>\n",
       "    </tr>\n",
       "    <tr>\n",
       "      <th>2</th>\n",
       "      <td>0</td>\n",
       "      <td>0</td>\n",
       "      <td>0</td>\n",
       "      <td>0</td>\n",
       "      <td>0</td>\n",
       "      <td>0</td>\n",
       "      <td>0</td>\n",
       "      <td>0</td>\n",
       "      <td>1</td>\n",
       "      <td>11000</td>\n",
       "      <td>...</td>\n",
       "      <td>1</td>\n",
       "      <td>30.0</td>\n",
       "      <td>55.4</td>\n",
       "      <td>1.4</td>\n",
       "      <td>0</td>\n",
       "      <td>0</td>\n",
       "      <td>0</td>\n",
       "      <td>0</td>\n",
       "      <td>1</td>\n",
       "      <td>5</td>\n",
       "    </tr>\n",
       "    <tr>\n",
       "      <th>3</th>\n",
       "      <td>0</td>\n",
       "      <td>0</td>\n",
       "      <td>0</td>\n",
       "      <td>0</td>\n",
       "      <td>0</td>\n",
       "      <td>0</td>\n",
       "      <td>0</td>\n",
       "      <td>1</td>\n",
       "      <td>1</td>\n",
       "      <td>16800</td>\n",
       "      <td>...</td>\n",
       "      <td>0</td>\n",
       "      <td>145.0</td>\n",
       "      <td>67.3</td>\n",
       "      <td>2.0</td>\n",
       "      <td>0</td>\n",
       "      <td>0</td>\n",
       "      <td>0</td>\n",
       "      <td>0</td>\n",
       "      <td>1</td>\n",
       "      <td>4</td>\n",
       "    </tr>\n",
       "    <tr>\n",
       "      <th>4</th>\n",
       "      <td>0</td>\n",
       "      <td>0</td>\n",
       "      <td>0</td>\n",
       "      <td>0</td>\n",
       "      <td>0</td>\n",
       "      <td>0</td>\n",
       "      <td>1</td>\n",
       "      <td>0</td>\n",
       "      <td>0</td>\n",
       "      <td>17300</td>\n",
       "      <td>...</td>\n",
       "      <td>1</td>\n",
       "      <td>145.0</td>\n",
       "      <td>49.6</td>\n",
       "      <td>1.0</td>\n",
       "      <td>0</td>\n",
       "      <td>0</td>\n",
       "      <td>0</td>\n",
       "      <td>0</td>\n",
       "      <td>1</td>\n",
       "      <td>2</td>\n",
       "    </tr>\n",
       "  </tbody>\n",
       "</table>\n",
       "<p>5 rows × 27 columns</p>\n",
       "</div>"
      ],
      "text/plain": [
       "   model_0  model_1  model_2  model_3  model_4  model_5  model_6  model_7  \\\n",
       "0        0        0        0        0        0        0        0        0   \n",
       "1        0        0        0        0        0        0        0        1   \n",
       "2        0        0        0        0        0        0        0        0   \n",
       "3        0        0        0        0        0        0        0        1   \n",
       "4        0        0        0        0        0        0        1        0   \n",
       "\n",
       "   model_8  price  ...  fuelType_3    tax   mpg  engineSize  Maker_0  Maker_1  \\\n",
       "0        1  12500  ...           1  150.0  55.4         1.4        0        0   \n",
       "1        0  16500  ...           0   20.0  64.2         2.0        0        0   \n",
       "2        1  11000  ...           1   30.0  55.4         1.4        0        0   \n",
       "3        1  16800  ...           0  145.0  67.3         2.0        0        0   \n",
       "4        0  17300  ...           1  145.0  49.6         1.0        0        0   \n",
       "\n",
       "   Maker_2  Maker_3  Maker_4  car age  \n",
       "0        0        0        1        4  \n",
       "1        0        0        1        5  \n",
       "2        0        0        1        5  \n",
       "3        0        0        1        4  \n",
       "4        0        0        1        2  \n",
       "\n",
       "[5 rows x 27 columns]"
      ]
     },
     "execution_count": 49,
     "metadata": {},
     "output_type": "execute_result"
    }
   ],
   "source": [
    "# Plot the results \n",
    "model = LinearRegression()\n",
    "model.fit(X_train_scaled, y_train_scaled)\n",
    "plt.scatter(model.predict(X_train_scaled), model.predict(X_train_scaled) - y_train_scaled, c=\"blue\", label=\"Training Data\")\n",
    "plt.scatter(model.predict(X_test_scaled), model.predict(X_test_scaled) - y_test_scaled, c=\"orange\", label=\"Testing Data\")\n",
    "plt.legend()\n",
    "plt.hlines(y=0, xmin=y_test_scaled.min(), xmax=y_test_scaled.max())\n",
    "plt.title(\"Residual Plot\")\n",
    "plt.show()\n",
    "\n",
    "df.head()\n",
    "\n",
    "# Plots\n",
    "\n"
   ]
  },
  {
   "cell_type": "code",
   "execution_count": 50,
   "metadata": {},
   "outputs": [
    {
     "name": "stdout",
     "output_type": "stream",
     "text": [
      "MSE: 0.22121676756133596, R2: 0.7732596381718262\n"
     ]
    }
   ],
   "source": [
    "predictions = model.predict(X_test_scaled)\n",
    "MSE = mean_squared_error(y_test_scaled, predictions)\n",
    "r2 = model.score(X_test_scaled, y_test_scaled)\n",
    "\n",
    "print(f\"MSE: {MSE}, R2: {r2}\")\n",
    "# R^2 of .77!"
   ]
  },
  {
   "cell_type": "markdown",
   "metadata": {},
   "source": [
    "# Running OLS\n",
    "\n",
    "OLS Returning an adjusted R^2 of .938"
   ]
  },
  {
   "cell_type": "code",
   "execution_count": 51,
   "metadata": {},
   "outputs": [
    {
     "data": {
      "text/plain": [
       "model_0          -6.485911e-09\n",
       "model_1           2.207628e+03\n",
       "model_2           1.662842e+03\n",
       "model_3           2.545519e+03\n",
       "model_4          -5.215647e+01\n",
       "model_5           1.148862e+03\n",
       "model_6           8.794344e+02\n",
       "model_7           9.446067e+01\n",
       "model_8           1.998169e+02\n",
       "transmission_0    4.383674e+03\n",
       "transmission_1    3.331541e+03\n",
       "transmission_2    1.525675e+03\n",
       "mileage          -9.427618e-02\n",
       "fuelType_0        3.514066e-09\n",
       "fuelType_1        9.358322e+03\n",
       "fuelType_2        4.845743e+03\n",
       "fuelType_3        6.843083e+03\n",
       "tax              -2.466707e+00\n",
       "mpg              -2.360162e+01\n",
       "engineSize        1.090633e+04\n",
       "Maker_0           1.177355e-09\n",
       "Maker_1          -7.030147e+03\n",
       "Maker_2          -3.855581e+03\n",
       "Maker_3          -3.865642e+03\n",
       "Maker_4           6.649994e+02\n",
       "car age          -1.448492e+03\n",
       "dtype: float64"
      ]
     },
     "execution_count": 51,
     "metadata": {},
     "output_type": "execute_result"
    }
   ],
   "source": [
    "model = sm.OLS(y,X)\n",
    "results = model.fit()\n",
    "results.params"
   ]
  },
  {
   "cell_type": "code",
   "execution_count": 52,
   "metadata": {},
   "outputs": [
    {
     "data": {
      "text/plain": [
       "model_0            -8.225732\n",
       "model_1             4.055429\n",
       "model_2             6.077842\n",
       "model_3            19.469103\n",
       "model_4            -0.652995\n",
       "model_5            25.574204\n",
       "model_6            23.620392\n",
       "model_7             2.730582\n",
       "model_8             6.002783\n",
       "transmission_0      2.700765\n",
       "transmission_1     73.051981\n",
       "transmission_2     33.176048\n",
       "mileage           -82.704694\n",
       "fuelType_0          2.679215\n",
       "fuelType_1         27.414774\n",
       "fuelType_2         43.492104\n",
       "fuelType_3         68.243222\n",
       "tax                -9.127271\n",
       "mpg               -18.457879\n",
       "engineSize        283.164147\n",
       "Maker_0             2.682788\n",
       "Maker_1           -10.154011\n",
       "Maker_2           -10.580813\n",
       "Maker_3           -19.867009\n",
       "Maker_4             7.301496\n",
       "car age          -132.239484\n",
       "dtype: float64"
      ]
     },
     "execution_count": 52,
     "metadata": {},
     "output_type": "execute_result"
    }
   ],
   "source": [
    "results.tvalues"
   ]
  },
  {
   "cell_type": "code",
   "execution_count": 53,
   "metadata": {
    "scrolled": false
   },
   "outputs": [
    {
     "data": {
      "text/html": [
       "<table class=\"simpletable\">\n",
       "<caption>OLS Regression Results</caption>\n",
       "<tr>\n",
       "  <th>Dep. Variable:</th>            <td>y</td>        <th>  R-squared (uncentered):</th>       <td>   0.938</td>  \n",
       "</tr>\n",
       "<tr>\n",
       "  <th>Model:</th>                   <td>OLS</td>       <th>  Adj. R-squared (uncentered):</th>  <td>   0.938</td>  \n",
       "</tr>\n",
       "<tr>\n",
       "  <th>Method:</th>             <td>Least Squares</td>  <th>  F-statistic:       </th>           <td>6.489e+04</td> \n",
       "</tr>\n",
       "<tr>\n",
       "  <th>Date:</th>             <td>Wed, 04 Aug 2021</td> <th>  Prob (F-statistic):</th>            <td>  0.00</td>   \n",
       "</tr>\n",
       "<tr>\n",
       "  <th>Time:</th>                 <td>01:46:25</td>     <th>  Log-Likelihood:    </th>          <td>-9.8279e+05</td>\n",
       "</tr>\n",
       "<tr>\n",
       "  <th>No. Observations:</th>      <td> 99186</td>      <th>  AIC:               </th>           <td>1.966e+06</td> \n",
       "</tr>\n",
       "<tr>\n",
       "  <th>Df Residuals:</th>          <td> 99163</td>      <th>  BIC:               </th>           <td>1.966e+06</td> \n",
       "</tr>\n",
       "<tr>\n",
       "  <th>Df Model:</th>              <td>    23</td>      <th>                     </th>               <td> </td>     \n",
       "</tr>\n",
       "<tr>\n",
       "  <th>Covariance Type:</th>      <td>nonrobust</td>    <th>                     </th>               <td> </td>     \n",
       "</tr>\n",
       "</table>\n",
       "<table class=\"simpletable\">\n",
       "<tr>\n",
       "         <td></td>           <th>coef</th>     <th>std err</th>      <th>t</th>      <th>P>|t|</th>  <th>[0.025</th>    <th>0.975]</th>  \n",
       "</tr>\n",
       "<tr>\n",
       "  <th>model_0</th>        <td>-6.486e-09</td> <td> 7.88e-10</td> <td>   -8.226</td> <td> 0.000</td> <td>-8.03e-09</td> <td>-4.94e-09</td>\n",
       "</tr>\n",
       "<tr>\n",
       "  <th>model_1</th>        <td> 2207.6278</td> <td>  544.364</td> <td>    4.055</td> <td> 0.000</td> <td> 1140.682</td> <td> 3274.574</td>\n",
       "</tr>\n",
       "<tr>\n",
       "  <th>model_2</th>        <td> 1662.8418</td> <td>  273.591</td> <td>    6.078</td> <td> 0.000</td> <td> 1126.607</td> <td> 2199.076</td>\n",
       "</tr>\n",
       "<tr>\n",
       "  <th>model_3</th>        <td> 2545.5189</td> <td>  130.747</td> <td>   19.469</td> <td> 0.000</td> <td> 2289.257</td> <td> 2801.781</td>\n",
       "</tr>\n",
       "<tr>\n",
       "  <th>model_4</th>        <td>  -52.1565</td> <td>   79.873</td> <td>   -0.653</td> <td> 0.514</td> <td> -208.706</td> <td>  104.393</td>\n",
       "</tr>\n",
       "<tr>\n",
       "  <th>model_5</th>        <td> 1148.8624</td> <td>   44.923</td> <td>   25.574</td> <td> 0.000</td> <td> 1060.814</td> <td> 1236.910</td>\n",
       "</tr>\n",
       "<tr>\n",
       "  <th>model_6</th>        <td>  879.4344</td> <td>   37.232</td> <td>   23.620</td> <td> 0.000</td> <td>  806.460</td> <td>  952.409</td>\n",
       "</tr>\n",
       "<tr>\n",
       "  <th>model_7</th>        <td>   94.4607</td> <td>   34.594</td> <td>    2.731</td> <td> 0.006</td> <td>   26.658</td> <td>  162.264</td>\n",
       "</tr>\n",
       "<tr>\n",
       "  <th>model_8</th>        <td>  199.8169</td> <td>   33.287</td> <td>    6.003</td> <td> 0.000</td> <td>  134.574</td> <td>  265.060</td>\n",
       "</tr>\n",
       "<tr>\n",
       "  <th>transmission_0</th> <td> 4383.6744</td> <td> 1623.123</td> <td>    2.701</td> <td> 0.007</td> <td> 1202.373</td> <td> 7564.976</td>\n",
       "</tr>\n",
       "<tr>\n",
       "  <th>transmission_1</th> <td> 3331.5413</td> <td>   45.605</td> <td>   73.052</td> <td> 0.000</td> <td> 3242.156</td> <td> 3420.927</td>\n",
       "</tr>\n",
       "<tr>\n",
       "  <th>transmission_2</th> <td> 1525.6749</td> <td>   45.987</td> <td>   33.176</td> <td> 0.000</td> <td> 1435.540</td> <td> 1615.809</td>\n",
       "</tr>\n",
       "<tr>\n",
       "  <th>mileage</th>        <td>   -0.0943</td> <td>    0.001</td> <td>  -82.705</td> <td> 0.000</td> <td>   -0.097</td> <td>   -0.092</td>\n",
       "</tr>\n",
       "<tr>\n",
       "  <th>fuelType_0</th>     <td> 3.514e-09</td> <td> 1.31e-09</td> <td>    2.679</td> <td> 0.007</td> <td> 9.43e-10</td> <td> 6.08e-09</td>\n",
       "</tr>\n",
       "<tr>\n",
       "  <th>fuelType_1</th>     <td> 9358.3223</td> <td>  341.361</td> <td>   27.415</td> <td> 0.000</td> <td> 8689.260</td> <td>    1e+04</td>\n",
       "</tr>\n",
       "<tr>\n",
       "  <th>fuelType_2</th>     <td> 4845.7430</td> <td>  111.417</td> <td>   43.492</td> <td> 0.000</td> <td> 4627.368</td> <td> 5064.118</td>\n",
       "</tr>\n",
       "<tr>\n",
       "  <th>fuelType_3</th>     <td> 6843.0831</td> <td>  100.275</td> <td>   68.243</td> <td> 0.000</td> <td> 6646.545</td> <td> 7039.621</td>\n",
       "</tr>\n",
       "<tr>\n",
       "  <th>tax</th>            <td>   -2.4667</td> <td>    0.270</td> <td>   -9.127</td> <td> 0.000</td> <td>   -2.996</td> <td>   -1.937</td>\n",
       "</tr>\n",
       "<tr>\n",
       "  <th>mpg</th>            <td>  -23.6016</td> <td>    1.279</td> <td>  -18.458</td> <td> 0.000</td> <td>  -26.108</td> <td>  -21.095</td>\n",
       "</tr>\n",
       "<tr>\n",
       "  <th>engineSize</th>     <td> 1.091e+04</td> <td>   38.516</td> <td>  283.164</td> <td> 0.000</td> <td> 1.08e+04</td> <td>  1.1e+04</td>\n",
       "</tr>\n",
       "<tr>\n",
       "  <th>Maker_0</th>        <td> 1.177e-09</td> <td> 4.39e-10</td> <td>    2.683</td> <td> 0.007</td> <td> 3.17e-10</td> <td> 2.04e-09</td>\n",
       "</tr>\n",
       "<tr>\n",
       "  <th>Maker_1</th>        <td>-7030.1470</td> <td>  692.352</td> <td>  -10.154</td> <td> 0.000</td> <td>-8387.148</td> <td>-5673.146</td>\n",
       "</tr>\n",
       "<tr>\n",
       "  <th>Maker_2</th>        <td>-3855.5812</td> <td>  364.394</td> <td>  -10.581</td> <td> 0.000</td> <td>-4569.788</td> <td>-3141.374</td>\n",
       "</tr>\n",
       "<tr>\n",
       "  <th>Maker_3</th>        <td>-3865.6418</td> <td>  194.576</td> <td>  -19.867</td> <td> 0.000</td> <td>-4247.008</td> <td>-3484.275</td>\n",
       "</tr>\n",
       "<tr>\n",
       "  <th>Maker_4</th>        <td>  664.9994</td> <td>   91.077</td> <td>    7.301</td> <td> 0.000</td> <td>  486.489</td> <td>  843.509</td>\n",
       "</tr>\n",
       "<tr>\n",
       "  <th>car age</th>        <td>-1448.4923</td> <td>   10.954</td> <td> -132.239</td> <td> 0.000</td> <td>-1469.961</td> <td>-1427.024</td>\n",
       "</tr>\n",
       "</table>\n",
       "<table class=\"simpletable\">\n",
       "<tr>\n",
       "  <th>Omnibus:</th>       <td>76412.181</td> <th>  Durbin-Watson:     </th>  <td>   1.586</td>  \n",
       "</tr>\n",
       "<tr>\n",
       "  <th>Prob(Omnibus):</th>  <td> 0.000</td>   <th>  Jarque-Bera (JB):  </th> <td>6057312.609</td>\n",
       "</tr>\n",
       "<tr>\n",
       "  <th>Skew:</th>           <td> 3.109</td>   <th>  Prob(JB):          </th>  <td>    0.00</td>  \n",
       "</tr>\n",
       "<tr>\n",
       "  <th>Kurtosis:</th>       <td>40.776</td>   <th>  Cond. No.          </th>  <td>1.00e+16</td>  \n",
       "</tr>\n",
       "</table><br/><br/>Warnings:<br/>[1] Standard Errors assume that the covariance matrix of the errors is correctly specified.<br/>[2] The smallest eigenvalue is 9.69e-19. This might indicate that there are<br/>strong multicollinearity problems or that the design matrix is singular."
      ],
      "text/plain": [
       "<class 'statsmodels.iolib.summary.Summary'>\n",
       "\"\"\"\n",
       "                                 OLS Regression Results                                \n",
       "=======================================================================================\n",
       "Dep. Variable:                      y   R-squared (uncentered):                   0.938\n",
       "Model:                            OLS   Adj. R-squared (uncentered):              0.938\n",
       "Method:                 Least Squares   F-statistic:                          6.489e+04\n",
       "Date:                Wed, 04 Aug 2021   Prob (F-statistic):                        0.00\n",
       "Time:                        01:46:25   Log-Likelihood:                     -9.8279e+05\n",
       "No. Observations:               99186   AIC:                                  1.966e+06\n",
       "Df Residuals:                   99163   BIC:                                  1.966e+06\n",
       "Df Model:                          23                                                  \n",
       "Covariance Type:            nonrobust                                                  \n",
       "==================================================================================\n",
       "                     coef    std err          t      P>|t|      [0.025      0.975]\n",
       "----------------------------------------------------------------------------------\n",
       "model_0        -6.486e-09   7.88e-10     -8.226      0.000   -8.03e-09   -4.94e-09\n",
       "model_1         2207.6278    544.364      4.055      0.000    1140.682    3274.574\n",
       "model_2         1662.8418    273.591      6.078      0.000    1126.607    2199.076\n",
       "model_3         2545.5189    130.747     19.469      0.000    2289.257    2801.781\n",
       "model_4          -52.1565     79.873     -0.653      0.514    -208.706     104.393\n",
       "model_5         1148.8624     44.923     25.574      0.000    1060.814    1236.910\n",
       "model_6          879.4344     37.232     23.620      0.000     806.460     952.409\n",
       "model_7           94.4607     34.594      2.731      0.006      26.658     162.264\n",
       "model_8          199.8169     33.287      6.003      0.000     134.574     265.060\n",
       "transmission_0  4383.6744   1623.123      2.701      0.007    1202.373    7564.976\n",
       "transmission_1  3331.5413     45.605     73.052      0.000    3242.156    3420.927\n",
       "transmission_2  1525.6749     45.987     33.176      0.000    1435.540    1615.809\n",
       "mileage           -0.0943      0.001    -82.705      0.000      -0.097      -0.092\n",
       "fuelType_0      3.514e-09   1.31e-09      2.679      0.007    9.43e-10    6.08e-09\n",
       "fuelType_1      9358.3223    341.361     27.415      0.000    8689.260       1e+04\n",
       "fuelType_2      4845.7430    111.417     43.492      0.000    4627.368    5064.118\n",
       "fuelType_3      6843.0831    100.275     68.243      0.000    6646.545    7039.621\n",
       "tax               -2.4667      0.270     -9.127      0.000      -2.996      -1.937\n",
       "mpg              -23.6016      1.279    -18.458      0.000     -26.108     -21.095\n",
       "engineSize      1.091e+04     38.516    283.164      0.000    1.08e+04     1.1e+04\n",
       "Maker_0         1.177e-09   4.39e-10      2.683      0.007    3.17e-10    2.04e-09\n",
       "Maker_1        -7030.1470    692.352    -10.154      0.000   -8387.148   -5673.146\n",
       "Maker_2        -3855.5812    364.394    -10.581      0.000   -4569.788   -3141.374\n",
       "Maker_3        -3865.6418    194.576    -19.867      0.000   -4247.008   -3484.275\n",
       "Maker_4          664.9994     91.077      7.301      0.000     486.489     843.509\n",
       "car age        -1448.4923     10.954   -132.239      0.000   -1469.961   -1427.024\n",
       "==============================================================================\n",
       "Omnibus:                    76412.181   Durbin-Watson:                   1.586\n",
       "Prob(Omnibus):                  0.000   Jarque-Bera (JB):          6057312.609\n",
       "Skew:                           3.109   Prob(JB):                         0.00\n",
       "Kurtosis:                      40.776   Cond. No.                     1.00e+16\n",
       "==============================================================================\n",
       "\n",
       "Warnings:\n",
       "[1] Standard Errors assume that the covariance matrix of the errors is correctly specified.\n",
       "[2] The smallest eigenvalue is 9.69e-19. This might indicate that there are\n",
       "strong multicollinearity problems or that the design matrix is singular.\n",
       "\"\"\""
      ]
     },
     "metadata": {},
     "output_type": "display_data"
    }
   ],
   "source": [
    "display(results.summary())"
   ]
  }
 ],
 "metadata": {
  "kernelspec": {
   "display_name": "Python 3",
   "language": "python",
   "name": "python3"
  },
  "language_info": {
   "codemirror_mode": {
    "name": "ipython",
    "version": 3
   },
   "file_extension": ".py",
   "mimetype": "text/x-python",
   "name": "python",
   "nbconvert_exporter": "python",
   "pygments_lexer": "ipython3",
   "version": "3.7.6"
  }
 },
 "nbformat": 4,
 "nbformat_minor": 4
}
